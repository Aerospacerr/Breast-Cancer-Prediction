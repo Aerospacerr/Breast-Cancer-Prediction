{
  "nbformat": 4,
  "nbformat_minor": 0,
  "metadata": {
    "colab": {
      "name": "FubaCalisir",
      "provenance": [],
      "collapsed_sections": [],
      "authorship_tag": "ABX9TyN9mvhVOf4XwRd4NcypWuce"
    },
    "kernelspec": {
      "name": "python3",
      "display_name": "Python 3"
    },
    "language_info": {
      "name": "python"
    }
  },
  "cells": [
    {
      "cell_type": "code",
      "execution_count": 100,
      "metadata": {
        "id": "fQrUsUbjT0pp"
      },
      "outputs": [],
      "source": [
        "import pandas as pd\n",
        "import numpy as np\n",
        "from sklearn.model_selection import train_test_split\n",
        "from sklearn.ensemble import RandomForestClassifier\n",
        "from sklearn.datasets import make_classification\n",
        "\n",
        "df= pd.read_csv(\"/content/TCGA_PAM50.csv\")"
      ]
    },
    {
      "cell_type": "code",
      "source": [
        "df.head()"
      ],
      "metadata": {
        "colab": {
          "base_uri": "https://localhost:8080/",
          "height": 236
        },
        "id": "FJUuamkLUYCb",
        "outputId": "20c251f9-15a4-4111-c8e9-962845dc82bf"
      },
      "execution_count": 101,
      "outputs": [
        {
          "output_type": "execute_result",
          "data": {
            "text/plain": [
              "                     Unnamed: 0 Subtype_mRNA  ACTR3B  ANLN  BAG1  BCL2  BIRC5  \\\n",
              "0  TCGA-3C-AAAU-01A-11R-A41B-07         LumA     980  2585  6058  7420   2051   \n",
              "1  TCGA-3C-AALI-01A-11R-A41B-07         Her2     287  3152  1518   531   3152   \n",
              "2  TCGA-3C-AALJ-01A-31R-A41B-07         LumB     175   759  2299  3047   1487   \n",
              "3  TCGA-3C-AALK-01A-11R-A41B-07         LumA     336  1700  4547  5720   2901   \n",
              "4  TCGA-4H-AAAK-01A-12R-A41B-07         LumA     545   937  5643  4076   1253   \n",
              "\n",
              "   BLVRA  CCNB1  CCNE1  ...    PGR  PHGDH  PTTG1  RRM2  SFRP1  SLC39A6  \\\n",
              "0   2765   3951    515  ...   7002   2266   1251  4536   1410   272609   \n",
              "1   3867   3699    467  ...     54   1471   1133  6347    189     3221   \n",
              "2   2617   2150    224  ...    577    130    983  1540     77    18126   \n",
              "3   3531   2086    128  ...   5725   1776    831  2346   3076    47807   \n",
              "4   1683   1581    143  ...  10885   1543    664   951   3725     9323   \n",
              "\n",
              "   TMEM45B  TYMS  UBE2C  UBE2T  \n",
              "0       28  1283   1834   1002  \n",
              "1     1666  1098   2848   1998  \n",
              "2       15   617   1516    885  \n",
              "3     1429  1349   1369    971  \n",
              "4     1015  1219    860    511  \n",
              "\n",
              "[5 rows x 49 columns]"
            ],
            "text/html": [
              "\n",
              "  <div id=\"df-008675fb-9782-4fb7-a904-f7a4723ec1f6\">\n",
              "    <div class=\"colab-df-container\">\n",
              "      <div>\n",
              "<style scoped>\n",
              "    .dataframe tbody tr th:only-of-type {\n",
              "        vertical-align: middle;\n",
              "    }\n",
              "\n",
              "    .dataframe tbody tr th {\n",
              "        vertical-align: top;\n",
              "    }\n",
              "\n",
              "    .dataframe thead th {\n",
              "        text-align: right;\n",
              "    }\n",
              "</style>\n",
              "<table border=\"1\" class=\"dataframe\">\n",
              "  <thead>\n",
              "    <tr style=\"text-align: right;\">\n",
              "      <th></th>\n",
              "      <th>Unnamed: 0</th>\n",
              "      <th>Subtype_mRNA</th>\n",
              "      <th>ACTR3B</th>\n",
              "      <th>ANLN</th>\n",
              "      <th>BAG1</th>\n",
              "      <th>BCL2</th>\n",
              "      <th>BIRC5</th>\n",
              "      <th>BLVRA</th>\n",
              "      <th>CCNB1</th>\n",
              "      <th>CCNE1</th>\n",
              "      <th>...</th>\n",
              "      <th>PGR</th>\n",
              "      <th>PHGDH</th>\n",
              "      <th>PTTG1</th>\n",
              "      <th>RRM2</th>\n",
              "      <th>SFRP1</th>\n",
              "      <th>SLC39A6</th>\n",
              "      <th>TMEM45B</th>\n",
              "      <th>TYMS</th>\n",
              "      <th>UBE2C</th>\n",
              "      <th>UBE2T</th>\n",
              "    </tr>\n",
              "  </thead>\n",
              "  <tbody>\n",
              "    <tr>\n",
              "      <th>0</th>\n",
              "      <td>TCGA-3C-AAAU-01A-11R-A41B-07</td>\n",
              "      <td>LumA</td>\n",
              "      <td>980</td>\n",
              "      <td>2585</td>\n",
              "      <td>6058</td>\n",
              "      <td>7420</td>\n",
              "      <td>2051</td>\n",
              "      <td>2765</td>\n",
              "      <td>3951</td>\n",
              "      <td>515</td>\n",
              "      <td>...</td>\n",
              "      <td>7002</td>\n",
              "      <td>2266</td>\n",
              "      <td>1251</td>\n",
              "      <td>4536</td>\n",
              "      <td>1410</td>\n",
              "      <td>272609</td>\n",
              "      <td>28</td>\n",
              "      <td>1283</td>\n",
              "      <td>1834</td>\n",
              "      <td>1002</td>\n",
              "    </tr>\n",
              "    <tr>\n",
              "      <th>1</th>\n",
              "      <td>TCGA-3C-AALI-01A-11R-A41B-07</td>\n",
              "      <td>Her2</td>\n",
              "      <td>287</td>\n",
              "      <td>3152</td>\n",
              "      <td>1518</td>\n",
              "      <td>531</td>\n",
              "      <td>3152</td>\n",
              "      <td>3867</td>\n",
              "      <td>3699</td>\n",
              "      <td>467</td>\n",
              "      <td>...</td>\n",
              "      <td>54</td>\n",
              "      <td>1471</td>\n",
              "      <td>1133</td>\n",
              "      <td>6347</td>\n",
              "      <td>189</td>\n",
              "      <td>3221</td>\n",
              "      <td>1666</td>\n",
              "      <td>1098</td>\n",
              "      <td>2848</td>\n",
              "      <td>1998</td>\n",
              "    </tr>\n",
              "    <tr>\n",
              "      <th>2</th>\n",
              "      <td>TCGA-3C-AALJ-01A-31R-A41B-07</td>\n",
              "      <td>LumB</td>\n",
              "      <td>175</td>\n",
              "      <td>759</td>\n",
              "      <td>2299</td>\n",
              "      <td>3047</td>\n",
              "      <td>1487</td>\n",
              "      <td>2617</td>\n",
              "      <td>2150</td>\n",
              "      <td>224</td>\n",
              "      <td>...</td>\n",
              "      <td>577</td>\n",
              "      <td>130</td>\n",
              "      <td>983</td>\n",
              "      <td>1540</td>\n",
              "      <td>77</td>\n",
              "      <td>18126</td>\n",
              "      <td>15</td>\n",
              "      <td>617</td>\n",
              "      <td>1516</td>\n",
              "      <td>885</td>\n",
              "    </tr>\n",
              "    <tr>\n",
              "      <th>3</th>\n",
              "      <td>TCGA-3C-AALK-01A-11R-A41B-07</td>\n",
              "      <td>LumA</td>\n",
              "      <td>336</td>\n",
              "      <td>1700</td>\n",
              "      <td>4547</td>\n",
              "      <td>5720</td>\n",
              "      <td>2901</td>\n",
              "      <td>3531</td>\n",
              "      <td>2086</td>\n",
              "      <td>128</td>\n",
              "      <td>...</td>\n",
              "      <td>5725</td>\n",
              "      <td>1776</td>\n",
              "      <td>831</td>\n",
              "      <td>2346</td>\n",
              "      <td>3076</td>\n",
              "      <td>47807</td>\n",
              "      <td>1429</td>\n",
              "      <td>1349</td>\n",
              "      <td>1369</td>\n",
              "      <td>971</td>\n",
              "    </tr>\n",
              "    <tr>\n",
              "      <th>4</th>\n",
              "      <td>TCGA-4H-AAAK-01A-12R-A41B-07</td>\n",
              "      <td>LumA</td>\n",
              "      <td>545</td>\n",
              "      <td>937</td>\n",
              "      <td>5643</td>\n",
              "      <td>4076</td>\n",
              "      <td>1253</td>\n",
              "      <td>1683</td>\n",
              "      <td>1581</td>\n",
              "      <td>143</td>\n",
              "      <td>...</td>\n",
              "      <td>10885</td>\n",
              "      <td>1543</td>\n",
              "      <td>664</td>\n",
              "      <td>951</td>\n",
              "      <td>3725</td>\n",
              "      <td>9323</td>\n",
              "      <td>1015</td>\n",
              "      <td>1219</td>\n",
              "      <td>860</td>\n",
              "      <td>511</td>\n",
              "    </tr>\n",
              "  </tbody>\n",
              "</table>\n",
              "<p>5 rows × 49 columns</p>\n",
              "</div>\n",
              "      <button class=\"colab-df-convert\" onclick=\"convertToInteractive('df-008675fb-9782-4fb7-a904-f7a4723ec1f6')\"\n",
              "              title=\"Convert this dataframe to an interactive table.\"\n",
              "              style=\"display:none;\">\n",
              "        \n",
              "  <svg xmlns=\"http://www.w3.org/2000/svg\" height=\"24px\"viewBox=\"0 0 24 24\"\n",
              "       width=\"24px\">\n",
              "    <path d=\"M0 0h24v24H0V0z\" fill=\"none\"/>\n",
              "    <path d=\"M18.56 5.44l.94 2.06.94-2.06 2.06-.94-2.06-.94-.94-2.06-.94 2.06-2.06.94zm-11 1L8.5 8.5l.94-2.06 2.06-.94-2.06-.94L8.5 2.5l-.94 2.06-2.06.94zm10 10l.94 2.06.94-2.06 2.06-.94-2.06-.94-.94-2.06-.94 2.06-2.06.94z\"/><path d=\"M17.41 7.96l-1.37-1.37c-.4-.4-.92-.59-1.43-.59-.52 0-1.04.2-1.43.59L10.3 9.45l-7.72 7.72c-.78.78-.78 2.05 0 2.83L4 21.41c.39.39.9.59 1.41.59.51 0 1.02-.2 1.41-.59l7.78-7.78 2.81-2.81c.8-.78.8-2.07 0-2.86zM5.41 20L4 18.59l7.72-7.72 1.47 1.35L5.41 20z\"/>\n",
              "  </svg>\n",
              "      </button>\n",
              "      \n",
              "  <style>\n",
              "    .colab-df-container {\n",
              "      display:flex;\n",
              "      flex-wrap:wrap;\n",
              "      gap: 12px;\n",
              "    }\n",
              "\n",
              "    .colab-df-convert {\n",
              "      background-color: #E8F0FE;\n",
              "      border: none;\n",
              "      border-radius: 50%;\n",
              "      cursor: pointer;\n",
              "      display: none;\n",
              "      fill: #1967D2;\n",
              "      height: 32px;\n",
              "      padding: 0 0 0 0;\n",
              "      width: 32px;\n",
              "    }\n",
              "\n",
              "    .colab-df-convert:hover {\n",
              "      background-color: #E2EBFA;\n",
              "      box-shadow: 0px 1px 2px rgba(60, 64, 67, 0.3), 0px 1px 3px 1px rgba(60, 64, 67, 0.15);\n",
              "      fill: #174EA6;\n",
              "    }\n",
              "\n",
              "    [theme=dark] .colab-df-convert {\n",
              "      background-color: #3B4455;\n",
              "      fill: #D2E3FC;\n",
              "    }\n",
              "\n",
              "    [theme=dark] .colab-df-convert:hover {\n",
              "      background-color: #434B5C;\n",
              "      box-shadow: 0px 1px 3px 1px rgba(0, 0, 0, 0.15);\n",
              "      filter: drop-shadow(0px 1px 2px rgba(0, 0, 0, 0.3));\n",
              "      fill: #FFFFFF;\n",
              "    }\n",
              "  </style>\n",
              "\n",
              "      <script>\n",
              "        const buttonEl =\n",
              "          document.querySelector('#df-008675fb-9782-4fb7-a904-f7a4723ec1f6 button.colab-df-convert');\n",
              "        buttonEl.style.display =\n",
              "          google.colab.kernel.accessAllowed ? 'block' : 'none';\n",
              "\n",
              "        async function convertToInteractive(key) {\n",
              "          const element = document.querySelector('#df-008675fb-9782-4fb7-a904-f7a4723ec1f6');\n",
              "          const dataTable =\n",
              "            await google.colab.kernel.invokeFunction('convertToInteractive',\n",
              "                                                     [key], {});\n",
              "          if (!dataTable) return;\n",
              "\n",
              "          const docLinkHtml = 'Like what you see? Visit the ' +\n",
              "            '<a target=\"_blank\" href=https://colab.research.google.com/notebooks/data_table.ipynb>data table notebook</a>'\n",
              "            + ' to learn more about interactive tables.';\n",
              "          element.innerHTML = '';\n",
              "          dataTable['output_type'] = 'display_data';\n",
              "          await google.colab.output.renderOutput(dataTable, element);\n",
              "          const docLink = document.createElement('div');\n",
              "          docLink.innerHTML = docLinkHtml;\n",
              "          element.appendChild(docLink);\n",
              "        }\n",
              "      </script>\n",
              "    </div>\n",
              "  </div>\n",
              "  "
            ]
          },
          "metadata": {},
          "execution_count": 101
        }
      ]
    },
    {
      "cell_type": "code",
      "source": [
        "df = df.set_index('Unnamed: 0')"
      ],
      "metadata": {
        "id": "AVtxQlh-UdOL"
      },
      "execution_count": 102,
      "outputs": []
    },
    {
      "cell_type": "code",
      "source": [
        "df.columns"
      ],
      "metadata": {
        "colab": {
          "base_uri": "https://localhost:8080/"
        },
        "id": "MAc_5N9PUkWR",
        "outputId": "de45406e-4425-440f-9385-17ed72389de0"
      },
      "execution_count": 103,
      "outputs": [
        {
          "output_type": "execute_result",
          "data": {
            "text/plain": [
              "Index(['Subtype_mRNA', 'ACTR3B', 'ANLN', 'BAG1', 'BCL2', 'BIRC5', 'BLVRA',\n",
              "       'CCNB1', 'CCNE1', 'CDC20', 'CDC6', 'CDH3', 'CENPF', 'CEP55', 'CXXC5',\n",
              "       'EGFR', 'ERBB2', 'ESR1', 'EXO1', 'FGFR4', 'FOXA1', 'FOXC1', 'GPR160',\n",
              "       'GRB7', 'KIF2C', 'KRT14', 'KRT17', 'KRT5', 'MAPT', 'MDM2', 'MELK',\n",
              "       'MIA', 'MKI67', 'MLPH', 'MMP11', 'MYBL2', 'MYC', 'NAT1', 'PGR', 'PHGDH',\n",
              "       'PTTG1', 'RRM2', 'SFRP1', 'SLC39A6', 'TMEM45B', 'TYMS', 'UBE2C',\n",
              "       'UBE2T'],\n",
              "      dtype='object')"
            ]
          },
          "metadata": {},
          "execution_count": 103
        }
      ]
    },
    {
      "cell_type": "code",
      "source": [
        "train, test = train_test_split(df, test_size=0.2, random_state=42,shuffle=True)"
      ],
      "metadata": {
        "id": "5SMoWLt0WmZB"
      },
      "execution_count": 104,
      "outputs": []
    },
    {
      "cell_type": "code",
      "source": [
        "train['Subtype_mRNA'].value_counts()"
      ],
      "metadata": {
        "colab": {
          "base_uri": "https://localhost:8080/"
        },
        "id": "amX0FjOGWnnC",
        "outputId": "27f2be5f-6230-4307-9c89-9420ff06b509"
      },
      "execution_count": 105,
      "outputs": [
        {
          "output_type": "execute_result",
          "data": {
            "text/plain": [
              "LumA      447\n",
              "LumB      162\n",
              "Basal     135\n",
              "Normal    111\n",
              "Her2       64\n",
              "Name: Subtype_mRNA, dtype: int64"
            ]
          },
          "metadata": {},
          "execution_count": 105
        }
      ]
    },
    {
      "cell_type": "code",
      "source": [
        "train['Subtype_mRNA'].count()"
      ],
      "metadata": {
        "colab": {
          "base_uri": "https://localhost:8080/"
        },
        "id": "enefsw06XbQX",
        "outputId": "c72dbbe9-8e04-43cc-a0d0-6994c8c1d431"
      },
      "execution_count": 106,
      "outputs": [
        {
          "output_type": "execute_result",
          "data": {
            "text/plain": [
              "919"
            ]
          },
          "metadata": {},
          "execution_count": 106
        }
      ]
    },
    {
      "cell_type": "code",
      "source": [
        "test['Subtype_mRNA'].count()"
      ],
      "metadata": {
        "colab": {
          "base_uri": "https://localhost:8080/"
        },
        "id": "qgc72EyLXdsl",
        "outputId": "fc9bd1b1-010b-402e-d7a8-a904985f800d"
      },
      "execution_count": 107,
      "outputs": [
        {
          "output_type": "execute_result",
          "data": {
            "text/plain": [
              "230"
            ]
          },
          "metadata": {},
          "execution_count": 107
        }
      ]
    },
    {
      "cell_type": "code",
      "source": [
        "train.head()"
      ],
      "metadata": {
        "colab": {
          "base_uri": "https://localhost:8080/",
          "height": 267
        },
        "id": "MSjqyyErXipU",
        "outputId": "bb209dca-473e-4098-ea17-62e044d90737"
      },
      "execution_count": 108,
      "outputs": [
        {
          "output_type": "execute_result",
          "data": {
            "text/plain": [
              "                             Subtype_mRNA  ACTR3B  ANLN   BAG1   BCL2  BIRC5  \\\n",
              "Unnamed: 0                                                                     \n",
              "TCGA-AR-A24M-01A-11R-A169-07         LumA     514  2014   4679  12124    887   \n",
              "TCGA-A2-A25E-01A-11R-A169-07         LumB     527  2442   6025  16992   4889   \n",
              "TCGA-A8-A075-01A-11R-A084-07         LumB     284  6656   3035    686   2893   \n",
              "TCGA-BH-A0E2-01A-11R-A056-07         LumA     419  3332  11181   8552   4621   \n",
              "TCGA-C8-A273-01A-11R-A16F-07         LumA    1319  2873   7599   1465   2707   \n",
              "\n",
              "                              BLVRA  CCNB1  CCNE1  CDC20  ...    PGR  PHGDH  \\\n",
              "Unnamed: 0                                                ...                 \n",
              "TCGA-AR-A24M-01A-11R-A169-07  10153   2142     95    903  ...  33916   2751   \n",
              "TCGA-A2-A25E-01A-11R-A169-07   8004   2850    290   1929  ...   9336   1336   \n",
              "TCGA-A8-A075-01A-11R-A084-07   5139   5104    182   2692  ...    322   3184   \n",
              "TCGA-BH-A0E2-01A-11R-A056-07   2075   5931    231   1585  ...   4143    594   \n",
              "TCGA-C8-A273-01A-11R-A16F-07  10084   4820    436   2520  ...   3119    535   \n",
              "\n",
              "                              PTTG1  RRM2  SFRP1  SLC39A6  TMEM45B  TYMS  \\\n",
              "Unnamed: 0                                                                 \n",
              "TCGA-AR-A24M-01A-11R-A169-07    452  2413  13347   188297     2501   989   \n",
              "TCGA-A2-A25E-01A-11R-A169-07   1578  5679   1246   233294      197  2858   \n",
              "TCGA-A8-A075-01A-11R-A084-07   1631  3679    101     6325      961  1338   \n",
              "TCGA-BH-A0E2-01A-11R-A056-07   2389  1457   1469    90744      206   822   \n",
              "TCGA-C8-A273-01A-11R-A16F-07   1241  5612   1682    79959      666  2576   \n",
              "\n",
              "                              UBE2C  UBE2T  \n",
              "Unnamed: 0                                  \n",
              "TCGA-AR-A24M-01A-11R-A169-07    679    946  \n",
              "TCGA-A2-A25E-01A-11R-A169-07   4316   2797  \n",
              "TCGA-A8-A075-01A-11R-A084-07   3327   2250  \n",
              "TCGA-BH-A0E2-01A-11R-A056-07   4102   1152  \n",
              "TCGA-C8-A273-01A-11R-A16F-07   2641   1362  \n",
              "\n",
              "[5 rows x 48 columns]"
            ],
            "text/html": [
              "\n",
              "  <div id=\"df-8b6206b3-b70c-40dd-b212-5c6a068ecc54\">\n",
              "    <div class=\"colab-df-container\">\n",
              "      <div>\n",
              "<style scoped>\n",
              "    .dataframe tbody tr th:only-of-type {\n",
              "        vertical-align: middle;\n",
              "    }\n",
              "\n",
              "    .dataframe tbody tr th {\n",
              "        vertical-align: top;\n",
              "    }\n",
              "\n",
              "    .dataframe thead th {\n",
              "        text-align: right;\n",
              "    }\n",
              "</style>\n",
              "<table border=\"1\" class=\"dataframe\">\n",
              "  <thead>\n",
              "    <tr style=\"text-align: right;\">\n",
              "      <th></th>\n",
              "      <th>Subtype_mRNA</th>\n",
              "      <th>ACTR3B</th>\n",
              "      <th>ANLN</th>\n",
              "      <th>BAG1</th>\n",
              "      <th>BCL2</th>\n",
              "      <th>BIRC5</th>\n",
              "      <th>BLVRA</th>\n",
              "      <th>CCNB1</th>\n",
              "      <th>CCNE1</th>\n",
              "      <th>CDC20</th>\n",
              "      <th>...</th>\n",
              "      <th>PGR</th>\n",
              "      <th>PHGDH</th>\n",
              "      <th>PTTG1</th>\n",
              "      <th>RRM2</th>\n",
              "      <th>SFRP1</th>\n",
              "      <th>SLC39A6</th>\n",
              "      <th>TMEM45B</th>\n",
              "      <th>TYMS</th>\n",
              "      <th>UBE2C</th>\n",
              "      <th>UBE2T</th>\n",
              "    </tr>\n",
              "    <tr>\n",
              "      <th>Unnamed: 0</th>\n",
              "      <th></th>\n",
              "      <th></th>\n",
              "      <th></th>\n",
              "      <th></th>\n",
              "      <th></th>\n",
              "      <th></th>\n",
              "      <th></th>\n",
              "      <th></th>\n",
              "      <th></th>\n",
              "      <th></th>\n",
              "      <th></th>\n",
              "      <th></th>\n",
              "      <th></th>\n",
              "      <th></th>\n",
              "      <th></th>\n",
              "      <th></th>\n",
              "      <th></th>\n",
              "      <th></th>\n",
              "      <th></th>\n",
              "      <th></th>\n",
              "      <th></th>\n",
              "    </tr>\n",
              "  </thead>\n",
              "  <tbody>\n",
              "    <tr>\n",
              "      <th>TCGA-AR-A24M-01A-11R-A169-07</th>\n",
              "      <td>LumA</td>\n",
              "      <td>514</td>\n",
              "      <td>2014</td>\n",
              "      <td>4679</td>\n",
              "      <td>12124</td>\n",
              "      <td>887</td>\n",
              "      <td>10153</td>\n",
              "      <td>2142</td>\n",
              "      <td>95</td>\n",
              "      <td>903</td>\n",
              "      <td>...</td>\n",
              "      <td>33916</td>\n",
              "      <td>2751</td>\n",
              "      <td>452</td>\n",
              "      <td>2413</td>\n",
              "      <td>13347</td>\n",
              "      <td>188297</td>\n",
              "      <td>2501</td>\n",
              "      <td>989</td>\n",
              "      <td>679</td>\n",
              "      <td>946</td>\n",
              "    </tr>\n",
              "    <tr>\n",
              "      <th>TCGA-A2-A25E-01A-11R-A169-07</th>\n",
              "      <td>LumB</td>\n",
              "      <td>527</td>\n",
              "      <td>2442</td>\n",
              "      <td>6025</td>\n",
              "      <td>16992</td>\n",
              "      <td>4889</td>\n",
              "      <td>8004</td>\n",
              "      <td>2850</td>\n",
              "      <td>290</td>\n",
              "      <td>1929</td>\n",
              "      <td>...</td>\n",
              "      <td>9336</td>\n",
              "      <td>1336</td>\n",
              "      <td>1578</td>\n",
              "      <td>5679</td>\n",
              "      <td>1246</td>\n",
              "      <td>233294</td>\n",
              "      <td>197</td>\n",
              "      <td>2858</td>\n",
              "      <td>4316</td>\n",
              "      <td>2797</td>\n",
              "    </tr>\n",
              "    <tr>\n",
              "      <th>TCGA-A8-A075-01A-11R-A084-07</th>\n",
              "      <td>LumB</td>\n",
              "      <td>284</td>\n",
              "      <td>6656</td>\n",
              "      <td>3035</td>\n",
              "      <td>686</td>\n",
              "      <td>2893</td>\n",
              "      <td>5139</td>\n",
              "      <td>5104</td>\n",
              "      <td>182</td>\n",
              "      <td>2692</td>\n",
              "      <td>...</td>\n",
              "      <td>322</td>\n",
              "      <td>3184</td>\n",
              "      <td>1631</td>\n",
              "      <td>3679</td>\n",
              "      <td>101</td>\n",
              "      <td>6325</td>\n",
              "      <td>961</td>\n",
              "      <td>1338</td>\n",
              "      <td>3327</td>\n",
              "      <td>2250</td>\n",
              "    </tr>\n",
              "    <tr>\n",
              "      <th>TCGA-BH-A0E2-01A-11R-A056-07</th>\n",
              "      <td>LumA</td>\n",
              "      <td>419</td>\n",
              "      <td>3332</td>\n",
              "      <td>11181</td>\n",
              "      <td>8552</td>\n",
              "      <td>4621</td>\n",
              "      <td>2075</td>\n",
              "      <td>5931</td>\n",
              "      <td>231</td>\n",
              "      <td>1585</td>\n",
              "      <td>...</td>\n",
              "      <td>4143</td>\n",
              "      <td>594</td>\n",
              "      <td>2389</td>\n",
              "      <td>1457</td>\n",
              "      <td>1469</td>\n",
              "      <td>90744</td>\n",
              "      <td>206</td>\n",
              "      <td>822</td>\n",
              "      <td>4102</td>\n",
              "      <td>1152</td>\n",
              "    </tr>\n",
              "    <tr>\n",
              "      <th>TCGA-C8-A273-01A-11R-A16F-07</th>\n",
              "      <td>LumA</td>\n",
              "      <td>1319</td>\n",
              "      <td>2873</td>\n",
              "      <td>7599</td>\n",
              "      <td>1465</td>\n",
              "      <td>2707</td>\n",
              "      <td>10084</td>\n",
              "      <td>4820</td>\n",
              "      <td>436</td>\n",
              "      <td>2520</td>\n",
              "      <td>...</td>\n",
              "      <td>3119</td>\n",
              "      <td>535</td>\n",
              "      <td>1241</td>\n",
              "      <td>5612</td>\n",
              "      <td>1682</td>\n",
              "      <td>79959</td>\n",
              "      <td>666</td>\n",
              "      <td>2576</td>\n",
              "      <td>2641</td>\n",
              "      <td>1362</td>\n",
              "    </tr>\n",
              "  </tbody>\n",
              "</table>\n",
              "<p>5 rows × 48 columns</p>\n",
              "</div>\n",
              "      <button class=\"colab-df-convert\" onclick=\"convertToInteractive('df-8b6206b3-b70c-40dd-b212-5c6a068ecc54')\"\n",
              "              title=\"Convert this dataframe to an interactive table.\"\n",
              "              style=\"display:none;\">\n",
              "        \n",
              "  <svg xmlns=\"http://www.w3.org/2000/svg\" height=\"24px\"viewBox=\"0 0 24 24\"\n",
              "       width=\"24px\">\n",
              "    <path d=\"M0 0h24v24H0V0z\" fill=\"none\"/>\n",
              "    <path d=\"M18.56 5.44l.94 2.06.94-2.06 2.06-.94-2.06-.94-.94-2.06-.94 2.06-2.06.94zm-11 1L8.5 8.5l.94-2.06 2.06-.94-2.06-.94L8.5 2.5l-.94 2.06-2.06.94zm10 10l.94 2.06.94-2.06 2.06-.94-2.06-.94-.94-2.06-.94 2.06-2.06.94z\"/><path d=\"M17.41 7.96l-1.37-1.37c-.4-.4-.92-.59-1.43-.59-.52 0-1.04.2-1.43.59L10.3 9.45l-7.72 7.72c-.78.78-.78 2.05 0 2.83L4 21.41c.39.39.9.59 1.41.59.51 0 1.02-.2 1.41-.59l7.78-7.78 2.81-2.81c.8-.78.8-2.07 0-2.86zM5.41 20L4 18.59l7.72-7.72 1.47 1.35L5.41 20z\"/>\n",
              "  </svg>\n",
              "      </button>\n",
              "      \n",
              "  <style>\n",
              "    .colab-df-container {\n",
              "      display:flex;\n",
              "      flex-wrap:wrap;\n",
              "      gap: 12px;\n",
              "    }\n",
              "\n",
              "    .colab-df-convert {\n",
              "      background-color: #E8F0FE;\n",
              "      border: none;\n",
              "      border-radius: 50%;\n",
              "      cursor: pointer;\n",
              "      display: none;\n",
              "      fill: #1967D2;\n",
              "      height: 32px;\n",
              "      padding: 0 0 0 0;\n",
              "      width: 32px;\n",
              "    }\n",
              "\n",
              "    .colab-df-convert:hover {\n",
              "      background-color: #E2EBFA;\n",
              "      box-shadow: 0px 1px 2px rgba(60, 64, 67, 0.3), 0px 1px 3px 1px rgba(60, 64, 67, 0.15);\n",
              "      fill: #174EA6;\n",
              "    }\n",
              "\n",
              "    [theme=dark] .colab-df-convert {\n",
              "      background-color: #3B4455;\n",
              "      fill: #D2E3FC;\n",
              "    }\n",
              "\n",
              "    [theme=dark] .colab-df-convert:hover {\n",
              "      background-color: #434B5C;\n",
              "      box-shadow: 0px 1px 3px 1px rgba(0, 0, 0, 0.15);\n",
              "      filter: drop-shadow(0px 1px 2px rgba(0, 0, 0, 0.3));\n",
              "      fill: #FFFFFF;\n",
              "    }\n",
              "  </style>\n",
              "\n",
              "      <script>\n",
              "        const buttonEl =\n",
              "          document.querySelector('#df-8b6206b3-b70c-40dd-b212-5c6a068ecc54 button.colab-df-convert');\n",
              "        buttonEl.style.display =\n",
              "          google.colab.kernel.accessAllowed ? 'block' : 'none';\n",
              "\n",
              "        async function convertToInteractive(key) {\n",
              "          const element = document.querySelector('#df-8b6206b3-b70c-40dd-b212-5c6a068ecc54');\n",
              "          const dataTable =\n",
              "            await google.colab.kernel.invokeFunction('convertToInteractive',\n",
              "                                                     [key], {});\n",
              "          if (!dataTable) return;\n",
              "\n",
              "          const docLinkHtml = 'Like what you see? Visit the ' +\n",
              "            '<a target=\"_blank\" href=https://colab.research.google.com/notebooks/data_table.ipynb>data table notebook</a>'\n",
              "            + ' to learn more about interactive tables.';\n",
              "          element.innerHTML = '';\n",
              "          dataTable['output_type'] = 'display_data';\n",
              "          await google.colab.output.renderOutput(dataTable, element);\n",
              "          const docLink = document.createElement('div');\n",
              "          docLink.innerHTML = docLinkHtml;\n",
              "          element.appendChild(docLink);\n",
              "        }\n",
              "      </script>\n",
              "    </div>\n",
              "  </div>\n",
              "  "
            ]
          },
          "metadata": {},
          "execution_count": 108
        }
      ]
    },
    {
      "cell_type": "code",
      "source": [
        "def one_hot_encoder(dataframe, categorical_cols, drop_first=False):\n",
        "    dataframe = pd.get_dummies(dataframe, columns=categorical_cols, drop_first=drop_first)\n",
        "    return dataframe"
      ],
      "metadata": {
        "id": "SZglv-y3X7gn"
      },
      "execution_count": 109,
      "outputs": []
    },
    {
      "cell_type": "code",
      "source": [
        "train_ohe=one_hot_encoder(train,['Subtype_mRNA'],drop_first=True)\n",
        "test_ohe=one_hot_encoder(test,['Subtype_mRNA'],drop_first=True)"
      ],
      "metadata": {
        "id": "iLjyjC5uYAOE"
      },
      "execution_count": 110,
      "outputs": []
    },
    {
      "cell_type": "code",
      "source": [
        "train_ohe"
      ],
      "metadata": {
        "colab": {
          "base_uri": "https://localhost:8080/",
          "height": 499
        },
        "id": "btdtca3lY72U",
        "outputId": "ca467aa5-e2b0-4f06-a471-00f4ff5965c4"
      },
      "execution_count": 111,
      "outputs": [
        {
          "output_type": "execute_result",
          "data": {
            "text/plain": [
              "                              ACTR3B  ANLN   BAG1   BCL2  BIRC5  BLVRA  CCNB1  \\\n",
              "Unnamed: 0                                                                      \n",
              "TCGA-AR-A24M-01A-11R-A169-07     514  2014   4679  12124    887  10153   2142   \n",
              "TCGA-A2-A25E-01A-11R-A169-07     527  2442   6025  16992   4889   8004   2850   \n",
              "TCGA-A8-A075-01A-11R-A084-07     284  6656   3035    686   2893   5139   5104   \n",
              "TCGA-BH-A0E2-01A-11R-A056-07     419  3332  11181   8552   4621   2075   5931   \n",
              "TCGA-C8-A273-01A-11R-A16F-07    1319  2873   7599   1465   2707  10084   4820   \n",
              "...                              ...   ...    ...    ...    ...    ...    ...   \n",
              "TCGA-EW-A6SB-01A-12R-A32P-07    1549  1165   2795   1770   2528   1423   1400   \n",
              "TCGA-LL-A7SZ-01A-32R-A352-07     263  1477   2399   1085   5351   6574   2605   \n",
              "TCGA-S3-A6ZF-01A-32R-A32P-07     677  3570   6000   2263   3313   5621   3865   \n",
              "TCGA-E2-A158-11A-22R-A12D-07     726   272   2447   3114     89   1748    200   \n",
              "TCGA-PL-A8LV-01A-21R-A41B-07     551  3168   5556    785   2580   1942   2170   \n",
              "\n",
              "                              CCNE1  CDC20  CDC6  ...  SFRP1  SLC39A6  \\\n",
              "Unnamed: 0                                        ...                   \n",
              "TCGA-AR-A24M-01A-11R-A169-07     95    903   999  ...  13347   188297   \n",
              "TCGA-A2-A25E-01A-11R-A169-07    290   1929  3493  ...   1246   233294   \n",
              "TCGA-A8-A075-01A-11R-A084-07    182   2692  1098  ...    101     6325   \n",
              "TCGA-BH-A0E2-01A-11R-A056-07    231   1585  1158  ...   1469    90744   \n",
              "TCGA-C8-A273-01A-11R-A16F-07    436   2520  1878  ...   1682    79959   \n",
              "...                             ...    ...   ...  ...    ...      ...   \n",
              "TCGA-EW-A6SB-01A-12R-A32P-07    691   4535   919  ...  16505     4436   \n",
              "TCGA-LL-A7SZ-01A-32R-A352-07    139   2408   873  ...    211     3852   \n",
              "TCGA-S3-A6ZF-01A-32R-A32P-07    296   1331  1454  ...    912   164477   \n",
              "TCGA-E2-A158-11A-22R-A12D-07     75    164    69  ...  12147     4581   \n",
              "TCGA-PL-A8LV-01A-21R-A41B-07   1636   3852  1973  ...   5680     2841   \n",
              "\n",
              "                              TMEM45B  TYMS  UBE2C  UBE2T  Subtype_mRNA_Her2  \\\n",
              "Unnamed: 0                                                                     \n",
              "TCGA-AR-A24M-01A-11R-A169-07     2501   989    679    946                  0   \n",
              "TCGA-A2-A25E-01A-11R-A169-07      197  2858   4316   2797                  0   \n",
              "TCGA-A8-A075-01A-11R-A084-07      961  1338   3327   2250                  0   \n",
              "TCGA-BH-A0E2-01A-11R-A056-07      206   822   4102   1152                  0   \n",
              "TCGA-C8-A273-01A-11R-A16F-07      666  2576   2641   1362                  0   \n",
              "...                               ...   ...    ...    ...                ...   \n",
              "TCGA-EW-A6SB-01A-12R-A32P-07       19  2211   2835   1651                  0   \n",
              "TCGA-LL-A7SZ-01A-32R-A352-07      503  1694   1524   1816                  0   \n",
              "TCGA-S3-A6ZF-01A-32R-A32P-07      327  1904   3212   1881                  0   \n",
              "TCGA-E2-A158-11A-22R-A12D-07       39    94     82     74                  0   \n",
              "TCGA-PL-A8LV-01A-21R-A41B-07      130  1649   2560   2087                  0   \n",
              "\n",
              "                              Subtype_mRNA_LumA  Subtype_mRNA_LumB  \\\n",
              "Unnamed: 0                                                           \n",
              "TCGA-AR-A24M-01A-11R-A169-07                  1                  0   \n",
              "TCGA-A2-A25E-01A-11R-A169-07                  0                  1   \n",
              "TCGA-A8-A075-01A-11R-A084-07                  0                  1   \n",
              "TCGA-BH-A0E2-01A-11R-A056-07                  1                  0   \n",
              "TCGA-C8-A273-01A-11R-A16F-07                  1                  0   \n",
              "...                                         ...                ...   \n",
              "TCGA-EW-A6SB-01A-12R-A32P-07                  0                  0   \n",
              "TCGA-LL-A7SZ-01A-32R-A352-07                  1                  0   \n",
              "TCGA-S3-A6ZF-01A-32R-A32P-07                  0                  1   \n",
              "TCGA-E2-A158-11A-22R-A12D-07                  0                  0   \n",
              "TCGA-PL-A8LV-01A-21R-A41B-07                  0                  0   \n",
              "\n",
              "                              Subtype_mRNA_Normal  \n",
              "Unnamed: 0                                         \n",
              "TCGA-AR-A24M-01A-11R-A169-07                    0  \n",
              "TCGA-A2-A25E-01A-11R-A169-07                    0  \n",
              "TCGA-A8-A075-01A-11R-A084-07                    0  \n",
              "TCGA-BH-A0E2-01A-11R-A056-07                    0  \n",
              "TCGA-C8-A273-01A-11R-A16F-07                    0  \n",
              "...                                           ...  \n",
              "TCGA-EW-A6SB-01A-12R-A32P-07                    0  \n",
              "TCGA-LL-A7SZ-01A-32R-A352-07                    0  \n",
              "TCGA-S3-A6ZF-01A-32R-A32P-07                    0  \n",
              "TCGA-E2-A158-11A-22R-A12D-07                    1  \n",
              "TCGA-PL-A8LV-01A-21R-A41B-07                    0  \n",
              "\n",
              "[919 rows x 51 columns]"
            ],
            "text/html": [
              "\n",
              "  <div id=\"df-7f07ae50-0858-4316-a1ec-fa85df78fe82\">\n",
              "    <div class=\"colab-df-container\">\n",
              "      <div>\n",
              "<style scoped>\n",
              "    .dataframe tbody tr th:only-of-type {\n",
              "        vertical-align: middle;\n",
              "    }\n",
              "\n",
              "    .dataframe tbody tr th {\n",
              "        vertical-align: top;\n",
              "    }\n",
              "\n",
              "    .dataframe thead th {\n",
              "        text-align: right;\n",
              "    }\n",
              "</style>\n",
              "<table border=\"1\" class=\"dataframe\">\n",
              "  <thead>\n",
              "    <tr style=\"text-align: right;\">\n",
              "      <th></th>\n",
              "      <th>ACTR3B</th>\n",
              "      <th>ANLN</th>\n",
              "      <th>BAG1</th>\n",
              "      <th>BCL2</th>\n",
              "      <th>BIRC5</th>\n",
              "      <th>BLVRA</th>\n",
              "      <th>CCNB1</th>\n",
              "      <th>CCNE1</th>\n",
              "      <th>CDC20</th>\n",
              "      <th>CDC6</th>\n",
              "      <th>...</th>\n",
              "      <th>SFRP1</th>\n",
              "      <th>SLC39A6</th>\n",
              "      <th>TMEM45B</th>\n",
              "      <th>TYMS</th>\n",
              "      <th>UBE2C</th>\n",
              "      <th>UBE2T</th>\n",
              "      <th>Subtype_mRNA_Her2</th>\n",
              "      <th>Subtype_mRNA_LumA</th>\n",
              "      <th>Subtype_mRNA_LumB</th>\n",
              "      <th>Subtype_mRNA_Normal</th>\n",
              "    </tr>\n",
              "    <tr>\n",
              "      <th>Unnamed: 0</th>\n",
              "      <th></th>\n",
              "      <th></th>\n",
              "      <th></th>\n",
              "      <th></th>\n",
              "      <th></th>\n",
              "      <th></th>\n",
              "      <th></th>\n",
              "      <th></th>\n",
              "      <th></th>\n",
              "      <th></th>\n",
              "      <th></th>\n",
              "      <th></th>\n",
              "      <th></th>\n",
              "      <th></th>\n",
              "      <th></th>\n",
              "      <th></th>\n",
              "      <th></th>\n",
              "      <th></th>\n",
              "      <th></th>\n",
              "      <th></th>\n",
              "      <th></th>\n",
              "    </tr>\n",
              "  </thead>\n",
              "  <tbody>\n",
              "    <tr>\n",
              "      <th>TCGA-AR-A24M-01A-11R-A169-07</th>\n",
              "      <td>514</td>\n",
              "      <td>2014</td>\n",
              "      <td>4679</td>\n",
              "      <td>12124</td>\n",
              "      <td>887</td>\n",
              "      <td>10153</td>\n",
              "      <td>2142</td>\n",
              "      <td>95</td>\n",
              "      <td>903</td>\n",
              "      <td>999</td>\n",
              "      <td>...</td>\n",
              "      <td>13347</td>\n",
              "      <td>188297</td>\n",
              "      <td>2501</td>\n",
              "      <td>989</td>\n",
              "      <td>679</td>\n",
              "      <td>946</td>\n",
              "      <td>0</td>\n",
              "      <td>1</td>\n",
              "      <td>0</td>\n",
              "      <td>0</td>\n",
              "    </tr>\n",
              "    <tr>\n",
              "      <th>TCGA-A2-A25E-01A-11R-A169-07</th>\n",
              "      <td>527</td>\n",
              "      <td>2442</td>\n",
              "      <td>6025</td>\n",
              "      <td>16992</td>\n",
              "      <td>4889</td>\n",
              "      <td>8004</td>\n",
              "      <td>2850</td>\n",
              "      <td>290</td>\n",
              "      <td>1929</td>\n",
              "      <td>3493</td>\n",
              "      <td>...</td>\n",
              "      <td>1246</td>\n",
              "      <td>233294</td>\n",
              "      <td>197</td>\n",
              "      <td>2858</td>\n",
              "      <td>4316</td>\n",
              "      <td>2797</td>\n",
              "      <td>0</td>\n",
              "      <td>0</td>\n",
              "      <td>1</td>\n",
              "      <td>0</td>\n",
              "    </tr>\n",
              "    <tr>\n",
              "      <th>TCGA-A8-A075-01A-11R-A084-07</th>\n",
              "      <td>284</td>\n",
              "      <td>6656</td>\n",
              "      <td>3035</td>\n",
              "      <td>686</td>\n",
              "      <td>2893</td>\n",
              "      <td>5139</td>\n",
              "      <td>5104</td>\n",
              "      <td>182</td>\n",
              "      <td>2692</td>\n",
              "      <td>1098</td>\n",
              "      <td>...</td>\n",
              "      <td>101</td>\n",
              "      <td>6325</td>\n",
              "      <td>961</td>\n",
              "      <td>1338</td>\n",
              "      <td>3327</td>\n",
              "      <td>2250</td>\n",
              "      <td>0</td>\n",
              "      <td>0</td>\n",
              "      <td>1</td>\n",
              "      <td>0</td>\n",
              "    </tr>\n",
              "    <tr>\n",
              "      <th>TCGA-BH-A0E2-01A-11R-A056-07</th>\n",
              "      <td>419</td>\n",
              "      <td>3332</td>\n",
              "      <td>11181</td>\n",
              "      <td>8552</td>\n",
              "      <td>4621</td>\n",
              "      <td>2075</td>\n",
              "      <td>5931</td>\n",
              "      <td>231</td>\n",
              "      <td>1585</td>\n",
              "      <td>1158</td>\n",
              "      <td>...</td>\n",
              "      <td>1469</td>\n",
              "      <td>90744</td>\n",
              "      <td>206</td>\n",
              "      <td>822</td>\n",
              "      <td>4102</td>\n",
              "      <td>1152</td>\n",
              "      <td>0</td>\n",
              "      <td>1</td>\n",
              "      <td>0</td>\n",
              "      <td>0</td>\n",
              "    </tr>\n",
              "    <tr>\n",
              "      <th>TCGA-C8-A273-01A-11R-A16F-07</th>\n",
              "      <td>1319</td>\n",
              "      <td>2873</td>\n",
              "      <td>7599</td>\n",
              "      <td>1465</td>\n",
              "      <td>2707</td>\n",
              "      <td>10084</td>\n",
              "      <td>4820</td>\n",
              "      <td>436</td>\n",
              "      <td>2520</td>\n",
              "      <td>1878</td>\n",
              "      <td>...</td>\n",
              "      <td>1682</td>\n",
              "      <td>79959</td>\n",
              "      <td>666</td>\n",
              "      <td>2576</td>\n",
              "      <td>2641</td>\n",
              "      <td>1362</td>\n",
              "      <td>0</td>\n",
              "      <td>1</td>\n",
              "      <td>0</td>\n",
              "      <td>0</td>\n",
              "    </tr>\n",
              "    <tr>\n",
              "      <th>...</th>\n",
              "      <td>...</td>\n",
              "      <td>...</td>\n",
              "      <td>...</td>\n",
              "      <td>...</td>\n",
              "      <td>...</td>\n",
              "      <td>...</td>\n",
              "      <td>...</td>\n",
              "      <td>...</td>\n",
              "      <td>...</td>\n",
              "      <td>...</td>\n",
              "      <td>...</td>\n",
              "      <td>...</td>\n",
              "      <td>...</td>\n",
              "      <td>...</td>\n",
              "      <td>...</td>\n",
              "      <td>...</td>\n",
              "      <td>...</td>\n",
              "      <td>...</td>\n",
              "      <td>...</td>\n",
              "      <td>...</td>\n",
              "      <td>...</td>\n",
              "    </tr>\n",
              "    <tr>\n",
              "      <th>TCGA-EW-A6SB-01A-12R-A32P-07</th>\n",
              "      <td>1549</td>\n",
              "      <td>1165</td>\n",
              "      <td>2795</td>\n",
              "      <td>1770</td>\n",
              "      <td>2528</td>\n",
              "      <td>1423</td>\n",
              "      <td>1400</td>\n",
              "      <td>691</td>\n",
              "      <td>4535</td>\n",
              "      <td>919</td>\n",
              "      <td>...</td>\n",
              "      <td>16505</td>\n",
              "      <td>4436</td>\n",
              "      <td>19</td>\n",
              "      <td>2211</td>\n",
              "      <td>2835</td>\n",
              "      <td>1651</td>\n",
              "      <td>0</td>\n",
              "      <td>0</td>\n",
              "      <td>0</td>\n",
              "      <td>0</td>\n",
              "    </tr>\n",
              "    <tr>\n",
              "      <th>TCGA-LL-A7SZ-01A-32R-A352-07</th>\n",
              "      <td>263</td>\n",
              "      <td>1477</td>\n",
              "      <td>2399</td>\n",
              "      <td>1085</td>\n",
              "      <td>5351</td>\n",
              "      <td>6574</td>\n",
              "      <td>2605</td>\n",
              "      <td>139</td>\n",
              "      <td>2408</td>\n",
              "      <td>873</td>\n",
              "      <td>...</td>\n",
              "      <td>211</td>\n",
              "      <td>3852</td>\n",
              "      <td>503</td>\n",
              "      <td>1694</td>\n",
              "      <td>1524</td>\n",
              "      <td>1816</td>\n",
              "      <td>0</td>\n",
              "      <td>1</td>\n",
              "      <td>0</td>\n",
              "      <td>0</td>\n",
              "    </tr>\n",
              "    <tr>\n",
              "      <th>TCGA-S3-A6ZF-01A-32R-A32P-07</th>\n",
              "      <td>677</td>\n",
              "      <td>3570</td>\n",
              "      <td>6000</td>\n",
              "      <td>2263</td>\n",
              "      <td>3313</td>\n",
              "      <td>5621</td>\n",
              "      <td>3865</td>\n",
              "      <td>296</td>\n",
              "      <td>1331</td>\n",
              "      <td>1454</td>\n",
              "      <td>...</td>\n",
              "      <td>912</td>\n",
              "      <td>164477</td>\n",
              "      <td>327</td>\n",
              "      <td>1904</td>\n",
              "      <td>3212</td>\n",
              "      <td>1881</td>\n",
              "      <td>0</td>\n",
              "      <td>0</td>\n",
              "      <td>1</td>\n",
              "      <td>0</td>\n",
              "    </tr>\n",
              "    <tr>\n",
              "      <th>TCGA-E2-A158-11A-22R-A12D-07</th>\n",
              "      <td>726</td>\n",
              "      <td>272</td>\n",
              "      <td>2447</td>\n",
              "      <td>3114</td>\n",
              "      <td>89</td>\n",
              "      <td>1748</td>\n",
              "      <td>200</td>\n",
              "      <td>75</td>\n",
              "      <td>164</td>\n",
              "      <td>69</td>\n",
              "      <td>...</td>\n",
              "      <td>12147</td>\n",
              "      <td>4581</td>\n",
              "      <td>39</td>\n",
              "      <td>94</td>\n",
              "      <td>82</td>\n",
              "      <td>74</td>\n",
              "      <td>0</td>\n",
              "      <td>0</td>\n",
              "      <td>0</td>\n",
              "      <td>1</td>\n",
              "    </tr>\n",
              "    <tr>\n",
              "      <th>TCGA-PL-A8LV-01A-21R-A41B-07</th>\n",
              "      <td>551</td>\n",
              "      <td>3168</td>\n",
              "      <td>5556</td>\n",
              "      <td>785</td>\n",
              "      <td>2580</td>\n",
              "      <td>1942</td>\n",
              "      <td>2170</td>\n",
              "      <td>1636</td>\n",
              "      <td>3852</td>\n",
              "      <td>1973</td>\n",
              "      <td>...</td>\n",
              "      <td>5680</td>\n",
              "      <td>2841</td>\n",
              "      <td>130</td>\n",
              "      <td>1649</td>\n",
              "      <td>2560</td>\n",
              "      <td>2087</td>\n",
              "      <td>0</td>\n",
              "      <td>0</td>\n",
              "      <td>0</td>\n",
              "      <td>0</td>\n",
              "    </tr>\n",
              "  </tbody>\n",
              "</table>\n",
              "<p>919 rows × 51 columns</p>\n",
              "</div>\n",
              "      <button class=\"colab-df-convert\" onclick=\"convertToInteractive('df-7f07ae50-0858-4316-a1ec-fa85df78fe82')\"\n",
              "              title=\"Convert this dataframe to an interactive table.\"\n",
              "              style=\"display:none;\">\n",
              "        \n",
              "  <svg xmlns=\"http://www.w3.org/2000/svg\" height=\"24px\"viewBox=\"0 0 24 24\"\n",
              "       width=\"24px\">\n",
              "    <path d=\"M0 0h24v24H0V0z\" fill=\"none\"/>\n",
              "    <path d=\"M18.56 5.44l.94 2.06.94-2.06 2.06-.94-2.06-.94-.94-2.06-.94 2.06-2.06.94zm-11 1L8.5 8.5l.94-2.06 2.06-.94-2.06-.94L8.5 2.5l-.94 2.06-2.06.94zm10 10l.94 2.06.94-2.06 2.06-.94-2.06-.94-.94-2.06-.94 2.06-2.06.94z\"/><path d=\"M17.41 7.96l-1.37-1.37c-.4-.4-.92-.59-1.43-.59-.52 0-1.04.2-1.43.59L10.3 9.45l-7.72 7.72c-.78.78-.78 2.05 0 2.83L4 21.41c.39.39.9.59 1.41.59.51 0 1.02-.2 1.41-.59l7.78-7.78 2.81-2.81c.8-.78.8-2.07 0-2.86zM5.41 20L4 18.59l7.72-7.72 1.47 1.35L5.41 20z\"/>\n",
              "  </svg>\n",
              "      </button>\n",
              "      \n",
              "  <style>\n",
              "    .colab-df-container {\n",
              "      display:flex;\n",
              "      flex-wrap:wrap;\n",
              "      gap: 12px;\n",
              "    }\n",
              "\n",
              "    .colab-df-convert {\n",
              "      background-color: #E8F0FE;\n",
              "      border: none;\n",
              "      border-radius: 50%;\n",
              "      cursor: pointer;\n",
              "      display: none;\n",
              "      fill: #1967D2;\n",
              "      height: 32px;\n",
              "      padding: 0 0 0 0;\n",
              "      width: 32px;\n",
              "    }\n",
              "\n",
              "    .colab-df-convert:hover {\n",
              "      background-color: #E2EBFA;\n",
              "      box-shadow: 0px 1px 2px rgba(60, 64, 67, 0.3), 0px 1px 3px 1px rgba(60, 64, 67, 0.15);\n",
              "      fill: #174EA6;\n",
              "    }\n",
              "\n",
              "    [theme=dark] .colab-df-convert {\n",
              "      background-color: #3B4455;\n",
              "      fill: #D2E3FC;\n",
              "    }\n",
              "\n",
              "    [theme=dark] .colab-df-convert:hover {\n",
              "      background-color: #434B5C;\n",
              "      box-shadow: 0px 1px 3px 1px rgba(0, 0, 0, 0.15);\n",
              "      filter: drop-shadow(0px 1px 2px rgba(0, 0, 0, 0.3));\n",
              "      fill: #FFFFFF;\n",
              "    }\n",
              "  </style>\n",
              "\n",
              "      <script>\n",
              "        const buttonEl =\n",
              "          document.querySelector('#df-7f07ae50-0858-4316-a1ec-fa85df78fe82 button.colab-df-convert');\n",
              "        buttonEl.style.display =\n",
              "          google.colab.kernel.accessAllowed ? 'block' : 'none';\n",
              "\n",
              "        async function convertToInteractive(key) {\n",
              "          const element = document.querySelector('#df-7f07ae50-0858-4316-a1ec-fa85df78fe82');\n",
              "          const dataTable =\n",
              "            await google.colab.kernel.invokeFunction('convertToInteractive',\n",
              "                                                     [key], {});\n",
              "          if (!dataTable) return;\n",
              "\n",
              "          const docLinkHtml = 'Like what you see? Visit the ' +\n",
              "            '<a target=\"_blank\" href=https://colab.research.google.com/notebooks/data_table.ipynb>data table notebook</a>'\n",
              "            + ' to learn more about interactive tables.';\n",
              "          element.innerHTML = '';\n",
              "          dataTable['output_type'] = 'display_data';\n",
              "          await google.colab.output.renderOutput(dataTable, element);\n",
              "          const docLink = document.createElement('div');\n",
              "          docLink.innerHTML = docLinkHtml;\n",
              "          element.appendChild(docLink);\n",
              "        }\n",
              "      </script>\n",
              "    </div>\n",
              "  </div>\n",
              "  "
            ]
          },
          "metadata": {},
          "execution_count": 111
        }
      ]
    },
    {
      "cell_type": "code",
      "source": [
        "train.Subtype_mRNA.unique()"
      ],
      "metadata": {
        "colab": {
          "base_uri": "https://localhost:8080/"
        },
        "id": "5rKq0wDTZGH_",
        "outputId": "215b91c3-4a75-4b40-f2db-6a45794bdf98"
      },
      "execution_count": 112,
      "outputs": [
        {
          "output_type": "execute_result",
          "data": {
            "text/plain": [
              "array(['LumA', 'LumB', 'Basal', 'Normal', 'Her2'], dtype=object)"
            ]
          },
          "metadata": {},
          "execution_count": 112
        }
      ]
    },
    {
      "cell_type": "code",
      "source": [
        "train_ohe.columns"
      ],
      "metadata": {
        "colab": {
          "base_uri": "https://localhost:8080/"
        },
        "id": "hpIYRmyhZQES",
        "outputId": "ece53d67-49a2-4b57-bc31-42ab74cd4c16"
      },
      "execution_count": 113,
      "outputs": [
        {
          "output_type": "execute_result",
          "data": {
            "text/plain": [
              "Index(['ACTR3B', 'ANLN', 'BAG1', 'BCL2', 'BIRC5', 'BLVRA', 'CCNB1', 'CCNE1',\n",
              "       'CDC20', 'CDC6', 'CDH3', 'CENPF', 'CEP55', 'CXXC5', 'EGFR', 'ERBB2',\n",
              "       'ESR1', 'EXO1', 'FGFR4', 'FOXA1', 'FOXC1', 'GPR160', 'GRB7', 'KIF2C',\n",
              "       'KRT14', 'KRT17', 'KRT5', 'MAPT', 'MDM2', 'MELK', 'MIA', 'MKI67',\n",
              "       'MLPH', 'MMP11', 'MYBL2', 'MYC', 'NAT1', 'PGR', 'PHGDH', 'PTTG1',\n",
              "       'RRM2', 'SFRP1', 'SLC39A6', 'TMEM45B', 'TYMS', 'UBE2C', 'UBE2T',\n",
              "       'Subtype_mRNA_Her2', 'Subtype_mRNA_LumA', 'Subtype_mRNA_LumB',\n",
              "       'Subtype_mRNA_Normal'],\n",
              "      dtype='object')"
            ]
          },
          "metadata": {},
          "execution_count": 113
        }
      ]
    },
    {
      "cell_type": "code",
      "source": [
        "from sklearn import preprocessing\n",
        "mm_scaler = preprocessing.MinMaxScaler()\n",
        "train_minmax = mm_scaler.fit_transform(train_ohe)\n",
        "mm_scaler.transform(test_ohe)"
      ],
      "metadata": {
        "colab": {
          "base_uri": "https://localhost:8080/"
        },
        "id": "96JcH-maZk7f",
        "outputId": "7cbe5129-5c58-448d-dcb9-d6c0bf8f8448"
      },
      "execution_count": 114,
      "outputs": [
        {
          "output_type": "execute_result",
          "data": {
            "text/plain": [
              "array([[0.06942004, 0.06384872, 0.0674132 , ..., 1.        , 0.        ,\n",
              "        0.        ],\n",
              "       [0.0254833 , 0.2954661 , 0.0645806 , ..., 0.        , 0.        ,\n",
              "        0.        ],\n",
              "       [0.07107987, 0.01373247, 0.05610928, ..., 1.        , 0.        ,\n",
              "        0.        ],\n",
              "       ...,\n",
              "       [0.09207186, 0.07253142, 0.03474566, ..., 0.        , 1.        ,\n",
              "        0.        ],\n",
              "       [0.08152705, 0.05057037, 0.01440125, ..., 0.        , 0.        ,\n",
              "        0.        ],\n",
              "       [0.04130053, 0.00216159, 0.04614224, ..., 0.        , 0.        ,\n",
              "        1.        ]])"
            ]
          },
          "metadata": {},
          "execution_count": 114
        }
      ]
    },
    {
      "cell_type": "code",
      "source": [
        "#split the data manually\n",
        "\n",
        "from sklearn.ensemble import RandomForestClassifier, GradientBoostingClassifier, VotingClassifier\n",
        "from sklearn.model_selection import GridSearchCV, cross_validate, RandomizedSearchCV, validation_curve\n",
        "\n",
        "\n",
        "y_train = train['Subtype_mRNA']\n",
        "X_train = train.drop(['Subtype_mRNA'], axis=1)\n",
        "\n",
        "y_test = test['Subtype_mRNA']\n",
        "X_test = test.drop(['Subtype_mRNA'], axis=1)\n",
        "\n",
        "train_minmax = mm_scaler.fit_transform(X_train)\n",
        "mm_scaler.transform(X_test)"
      ],
      "metadata": {
        "id": "zJ-gh6MZoSzM",
        "colab": {
          "base_uri": "https://localhost:8080/"
        },
        "outputId": "e8937797-d306-431c-f6e6-9927a2b897d9"
      },
      "execution_count": 115,
      "outputs": [
        {
          "output_type": "execute_result",
          "data": {
            "text/plain": [
              "array([[0.06942004, 0.06384872, 0.0674132 , ..., 0.05663912, 0.03293099,\n",
              "        0.21913101],\n",
              "       [0.0254833 , 0.2954661 , 0.0645806 , ..., 0.3537741 , 0.259993  ,\n",
              "        0.47417424],\n",
              "       [0.07107987, 0.01373247, 0.05610928, ..., 0.03123967, 0.02243506,\n",
              "        0.04943472],\n",
              "       ...,\n",
              "       [0.09207186, 0.07253142, 0.03474566, ..., 0.1538292 , 0.21451063,\n",
              "        0.52072711],\n",
              "       [0.08152705, 0.05057037, 0.01440125, ..., 0.2614876 , 0.20152191,\n",
              "        0.17800931],\n",
              "       [0.04130053, 0.00216159, 0.04614224, ..., 0.015427  , 0.00153066,\n",
              "        0.00798049]])"
            ]
          },
          "metadata": {},
          "execution_count": 115
        }
      ]
    },
    {
      "cell_type": "code",
      "source": [
        "#Plotting Data for missing values\n",
        "import matplotlib.pyplot as plt\n",
        "import seaborn as sns\n",
        "#plt.figure(figsize=(20, 6))\n",
        "#sns.heatmap(df.isnull(),yticklabels=False,cbar=False,cmap='viridis')\n",
        "\n",
        "\n",
        "#boş value yok"
      ],
      "metadata": {
        "id": "jPzPn2QI2qWo"
      },
      "execution_count": 144,
      "outputs": []
    },
    {
      "cell_type": "code",
      "source": [
        "from sklearn.metrics import accuracy_score\n",
        "from sklearn.metrics import f1_score\n",
        "from sklearn.metrics import recall_score\n",
        "from sklearn.metrics import precision_score\n",
        "\n",
        "\n",
        "def scores(y_test, predicted):\n",
        "  acc = accuracy_score(y_test, predicted)\n",
        "  f1 = f1_score(y_test, predicted, average=None)\n",
        "  recall = recall_score(y_test, predicted, average=None)\n",
        "  precision = precision_score(y_test, predicted, average=None)\n",
        "\n",
        "  #print(f'Out-of-bag score estimate: {rf_final.oob_score_:.3}')\n",
        "  print('Accuracy score', acc)\n",
        "  print('F1 score',f1)\n",
        "  print('Recall_score score:', recall)\n",
        "  print('Precision score:', precision)"
      ],
      "metadata": {
        "id": "sqwL-HkA5yhF"
      },
      "execution_count": 117,
      "outputs": []
    },
    {
      "cell_type": "code",
      "source": [
        "################################################\n",
        "# Random Forests\n",
        "################################################\n",
        "rf_model = RandomForestClassifier(random_state=17)\n",
        "\n",
        "rf_params = {\"max_depth\": [5, 8, None],\n",
        "             \"max_features\": [3, 5, 7, \"auto\"],\n",
        "             \"min_samples_split\": [2, 5, 8, 15, 20],\n",
        "             \"n_estimators\": [100, 200, 500]}\n",
        "\n",
        "#rf_best_grid = GridSearchCV(rf_model,\n",
        "#                            rf_params,\n",
        "#                            cv=5,\n",
        "#                            n_jobs=-1,\n",
        "#                            verbose=True).fit(X_train, y_train)\n",
        "\n",
        "\n",
        "####Best params daha önce bulduk####\n",
        "    #{'max_depth': 8,\n",
        "    # 'max_features': 7,\n",
        "    # 'min_samples_split': 2,\n",
        "    # 'n_estimators': 200}\n",
        "\n",
        "best_params={'max_depth': 8,\n",
        "             'max_features': 7,\n",
        "             'min_samples_split': 2,\n",
        "             'n_estimators': 200}\n",
        "\n",
        "rf_final = rf_model.set_params(**best_params,\n",
        "                               random_state=17).fit(X_train, y_train)\n",
        "\n",
        "\n",
        "\n",
        "\n",
        "rf_pred = rf_final.predict(X_test)\n",
        "\n",
        "scores(y_test, rf_pred)"
      ],
      "metadata": {
        "colab": {
          "base_uri": "https://localhost:8080/"
        },
        "id": "0AuX25eynRh4",
        "outputId": "5d1406f4-dbc5-4d35-ee6a-a0f74f3411d7"
      },
      "execution_count": 118,
      "outputs": [
        {
          "output_type": "stream",
          "name": "stdout",
          "text": [
            "Accuracy score 0.8826086956521739\n",
            "F1 score [0.97435897 0.8        0.90434783 0.77777778 0.84      ]\n",
            "Recall_score score: [0.95       0.75       0.98113208 0.68292683 0.77777778]\n",
            "Precision score: [1.         0.85714286 0.83870968 0.90322581 0.91304348]\n"
          ]
        }
      ]
    },
    {
      "cell_type": "code",
      "source": [
        "train['Subtype_mRNA'].value_counts()"
      ],
      "metadata": {
        "colab": {
          "base_uri": "https://localhost:8080/"
        },
        "id": "XkPLGQJ0WcJc",
        "outputId": "e8646de4-2953-4fb8-e6a6-01b5667a58a3"
      },
      "execution_count": 152,
      "outputs": [
        {
          "output_type": "execute_result",
          "data": {
            "text/plain": [
              "LumA      447\n",
              "LumB      162\n",
              "Basal     135\n",
              "Normal    111\n",
              "Her2       64\n",
              "Name: Subtype_mRNA, dtype: int64"
            ]
          },
          "metadata": {},
          "execution_count": 152
        }
      ]
    },
    {
      "cell_type": "code",
      "source": [
        "test['Subtype_mRNA'].value_counts()"
      ],
      "metadata": {
        "colab": {
          "base_uri": "https://localhost:8080/"
        },
        "id": "7ArqiPzcXPhM",
        "outputId": "57438282-9a2b-4967-d3e9-747aac2c19fc"
      },
      "execution_count": 153,
      "outputs": [
        {
          "output_type": "execute_result",
          "data": {
            "text/plain": [
              "LumA      106\n",
              "LumB       41\n",
              "Basal      40\n",
              "Normal     27\n",
              "Her2       16\n",
              "Name: Subtype_mRNA, dtype: int64"
            ]
          },
          "metadata": {},
          "execution_count": 153
        }
      ]
    },
    {
      "cell_type": "markdown",
      "source": [
        "## XGBoost"
      ],
      "metadata": {
        "id": "YR-WsVY8PPjC"
      }
    },
    {
      "cell_type": "code",
      "source": [
        "################################################\n",
        "# XGBoost\n",
        "################################################\n",
        "from xgboost import XGBClassifier\n",
        "\n",
        "xgboost_model = XGBClassifier(random_state=17)\n",
        "\n",
        "xgboost_params = {\"learning_rate\": [0.1, 0.01, 0.001],\n",
        "                  \"max_depth\": [5, 8, 12, 15, 20],\n",
        "                  \"n_estimators\": [100, 500, 1000],\n",
        "                  \"colsample_bytree\": [0.5, 0.7, 1]}\n",
        "\n",
        "#xgboost_best_grid = GridSearchCV(xgboost_model,\n",
        "#                                 xgboost_params,\n",
        " #                                cv=5,\n",
        " #                                n_jobs=-1, verbose=True).fit(X_train, y_train)\n",
        "\n",
        "#xgboost_best_grid.best_score_\n",
        "\n",
        "\n",
        "xgboost_params = {\"learning_rate\": 0.1,\n",
        "                  \"max_depth\": 5,\n",
        "                  \"n_estimators\": 100,\n",
        "                  \"colsample_bytree\": 0.7}\n",
        "\n",
        "xgboost_final = xgboost_model.set_params(**xgboost_params,\n",
        "                                         random_state=17).fit(X_train, y_train)\n",
        "\n",
        "\n",
        "xgboost_pred = xgboost_final.predict(X_test)\n",
        "\n",
        "scores(y_test, xgboost_pred)\n",
        "\n",
        "\n",
        "#cv_results = cross_validate(xgboost_final,\n",
        "#                            X, y,\n",
        "#                            cv=10,\n",
        "#                            scoring=[\"accuracy\", \"f1\", \"roc_auc\"])\n",
        "\n",
        "\n",
        "\n",
        "#cv_results['test_accuracy'].mean()\n",
        "#cv_results['test_f1'].mean()\n",
        "#cv_results['test_roc_auc'].mean()"
      ],
      "metadata": {
        "colab": {
          "base_uri": "https://localhost:8080/"
        },
        "id": "GG0zFsJdPO6R",
        "outputId": "2db2eef7-1a9a-4e80-9d70-a4bda93ed8ae"
      },
      "execution_count": 143,
      "outputs": [
        {
          "output_type": "stream",
          "name": "stdout",
          "text": [
            "Accuracy score 0.9043478260869565\n",
            "F1 score [0.98734177 0.8        0.92511013 0.82666667 0.85714286]\n",
            "Recall_score score: [0.975      0.75       0.99056604 0.75609756 0.77777778]\n",
            "Precision score: [1.         0.85714286 0.8677686  0.91176471 0.95454545]\n"
          ]
        }
      ]
    },
    {
      "cell_type": "markdown",
      "source": [
        "## LGBM"
      ],
      "metadata": {
        "id": "xswP-LrxP37Z"
      }
    },
    {
      "cell_type": "code",
      "source": [
        "################################################\n",
        "# LightGBM\n",
        "################################################\n",
        "from lightgbm import LGBMClassifier\n",
        "\n",
        "lgbm_model = LGBMClassifier(random_state=17)\n",
        "\n",
        "#lgbm_params = {\"learning_rate\": [0.01, 0.02, 0.03, 0.1, 0.001],\n",
        "#               \"n_estimators\": [100, 250, 300, 350, 500, 1000],\n",
        "#               \"colsample_bytree\": [0.5, 0.8, 0.7, 0.6, 1]}\n",
        "\n",
        "#lgbm_best_grid = GridSearchCV(lgbm_model, lgbm_params,\n",
        "#                              cv=5, n_jobs=-1, verbose=True).fit(X_train, y_train)\n",
        "\n",
        "lgbm_params = {\"learning_rate\": 0.01,\n",
        "               \"n_estimators\": 100,\n",
        "              \"colsample_bytree\": 0.7}\n",
        "\n",
        "lgbm_final = lgbm_model.set_params(**lgbm_params,\n",
        "                                   random_state=17).fit(X_train, y_train)\n",
        "\n",
        "lgbm_pred = lgbm_final.predict(X_test)\n",
        "\n",
        "scores(y_test, lgbm_pred)\n",
        "\n",
        "#cv_results = cross_validate(lgbm_final, X, y, cv=10,\n",
        "#                            scoring=[\"accuracy\", \"f1\", \"roc_auc\"])\n",
        "\n",
        "\n",
        "#cv_results['test_accuracy'].mean()\n",
        "#cv_results['test_f1'].mean()\n",
        "#cv_results['test_roc_auc'].mean()"
      ],
      "metadata": {
        "colab": {
          "base_uri": "https://localhost:8080/"
        },
        "id": "lIP1BYIyP3fz",
        "outputId": "0ced6c26-5ced-42a7-dca4-40826f2cad67"
      },
      "execution_count": 139,
      "outputs": [
        {
          "output_type": "stream",
          "name": "stdout",
          "text": [
            "Accuracy score 0.8478260869565217\n",
            "F1 score [0.96202532 0.78571429 0.87136929 0.71641791 0.75555556]\n",
            "Recall_score score: [0.95       0.6875     0.99056604 0.58536585 0.62962963]\n",
            "Precision score: [0.97435897 0.91666667 0.77777778 0.92307692 0.94444444]\n"
          ]
        }
      ]
    },
    {
      "cell_type": "code",
      "source": [
        "#\n",
        "#\n",
        "#\n",
        "#\n",
        "#\n",
        "#gerisi deneme"
      ],
      "metadata": {
        "id": "U2Zww7AZVGEj"
      },
      "execution_count": null,
      "outputs": []
    },
    {
      "cell_type": "code",
      "source": [
        ""
      ],
      "metadata": {
        "id": "XMrSzE1QVGBx"
      },
      "execution_count": null,
      "outputs": []
    },
    {
      "cell_type": "code",
      "source": [
        ""
      ],
      "metadata": {
        "id": "sJ19Yt07VF_R"
      },
      "execution_count": null,
      "outputs": []
    },
    {
      "cell_type": "code",
      "source": [
        ""
      ],
      "metadata": {
        "id": "DR4063I_VF8z"
      },
      "execution_count": null,
      "outputs": []
    },
    {
      "cell_type": "code",
      "source": [
        ""
      ],
      "metadata": {
        "id": "D4dMKiC0VF6f"
      },
      "execution_count": null,
      "outputs": []
    },
    {
      "cell_type": "code",
      "source": [
        ""
      ],
      "metadata": {
        "id": "4ylX1JItVF4L"
      },
      "execution_count": null,
      "outputs": []
    },
    {
      "cell_type": "code",
      "source": [
        ""
      ],
      "metadata": {
        "id": "tIDN8EL3VF1s"
      },
      "execution_count": null,
      "outputs": []
    },
    {
      "cell_type": "code",
      "source": [
        ""
      ],
      "metadata": {
        "id": "h430aI8yVFzU"
      },
      "execution_count": null,
      "outputs": []
    },
    {
      "cell_type": "code",
      "source": [
        ""
      ],
      "metadata": {
        "id": "4aHxIrqsVFxL"
      },
      "execution_count": null,
      "outputs": []
    },
    {
      "cell_type": "code",
      "source": [
        ""
      ],
      "metadata": {
        "id": "drskRukhVFuq"
      },
      "execution_count": null,
      "outputs": []
    },
    {
      "cell_type": "code",
      "source": [
        ""
      ],
      "metadata": {
        "id": "hCr4pVIeVFrh"
      },
      "execution_count": null,
      "outputs": []
    },
    {
      "cell_type": "code",
      "source": [
        ""
      ],
      "metadata": {
        "id": "ky0OX_HXVFpK"
      },
      "execution_count": null,
      "outputs": []
    },
    {
      "cell_type": "code",
      "source": [
        ""
      ],
      "metadata": {
        "id": "NnfshqrIVFmy"
      },
      "execution_count": null,
      "outputs": []
    },
    {
      "cell_type": "code",
      "source": [
        "y_test"
      ],
      "metadata": {
        "colab": {
          "base_uri": "https://localhost:8080/"
        },
        "id": "o2rpCMxGO5KC",
        "outputId": "65ccff75-bb33-4682-f645-e41bebaf7e00"
      },
      "execution_count": 123,
      "outputs": [
        {
          "output_type": "execute_result",
          "data": {
            "text/plain": [
              "Unnamed: 0\n",
              "TCGA-A8-A07F-01A-11R-A00Z-07      LumA\n",
              "TCGA-C8-A275-01A-21R-A16F-07      Her2\n",
              "TCGA-B6-A0RP-01A-21R-A084-07      LumA\n",
              "TCGA-AC-A23C-01A-12R-A169-07      LumA\n",
              "TCGA-BH-A1F8-11B-21R-A13Q-07    Normal\n",
              "                                 ...  \n",
              "TCGA-B6-A0X4-01A-11R-A109-07      LumA\n",
              "TCGA-AO-A12F-01A-11R-A115-07     Basal\n",
              "TCGA-A2-A0SV-01A-11R-A084-07      LumB\n",
              "TCGA-AR-A0U4-01A-11R-A109-07     Basal\n",
              "TCGA-BH-A18N-11A-43R-A12D-07    Normal\n",
              "Name: Subtype_mRNA, Length: 230, dtype: object"
            ]
          },
          "metadata": {},
          "execution_count": 123
        }
      ]
    },
    {
      "cell_type": "markdown",
      "source": [
        "## LGBM 2"
      ],
      "metadata": {
        "id": "0K2NTBT_RKKa"
      }
    },
    {
      "cell_type": "code",
      "source": [
        "datasets = {'x_train': x_train,\n",
        "            'y_train': y_train,\n",
        "            'x_test': x_test\n",
        "            }\n",
        "def pred_model(model, **datasets):\n",
        "    pred_test = model.predict(datasets['x_test'])\n",
        "    return pred_test, "
      ],
      "metadata": {
        "id": "DAnMOHtmRMka"
      },
      "execution_count": null,
      "outputs": []
    },
    {
      "cell_type": "code",
      "source": [
        "def objective_lgb(trial):\n",
        "    learning_rate = trial.suggest_float(\"learning_rate\", 1e-4, 0.25, log=True)\n",
        "    reg_lambda = trial.suggest_loguniform(\"reg_lambda\", 1e-9, 100.0)\n",
        "    reg_alpha = trial.suggest_loguniform(\"reg_alpha\", 1e-9, 100.0)\n",
        "    subsample = trial.suggest_float(\"subsample\", 0.0001, 1.0)\n",
        "    colsample_bytree = trial.suggest_float(\"colsample_bytree\", 0.0001, 1.0)\n",
        "    max_depth = trial.suggest_int(\"max_depth\", 1, 50)\n",
        "    early_stopping_rounds = trial.suggest_int(\"early_stopping_rounds\", 100, 700)\n",
        "    n_estimators = trial.suggest_int(\"n_estimators\", 0, 10000)\n",
        "    \n",
        "    model = LGBMRegressor(\n",
        "        random_state=50,\n",
        "        tree_method=\"gpu_hist\",\n",
        "        gpu_id=0,\n",
        "        predictor=\"gpu_predictor\",\n",
        "        n_estimators=n_estimators,\n",
        "        learning_rate=learning_rate,\n",
        "        reg_lambda=reg_lambda,\n",
        "        reg_alpha=reg_alpha,\n",
        "        subsample=subsample,\n",
        "        colsample_bytree=colsample_bytree,\n",
        "        max_depth=max_depth,\n",
        "    )\n",
        "    model.fit(\n",
        "        datasets['x_train'],\n",
        "        datasets['y_train'],\n",
        "        early_stopping_rounds=early_stopping_rounds,\n",
        "        verbose=1200,\n",
        "    )\n",
        "    preds_valid = model.predict(datasets['x_val'])\n",
        "    rmse = mean_squared_error(datasets['y_val'], preds_valid, squared=False)\n",
        "\n",
        "    return rmse\n",
        "study_lgb = optuna.create_study(direction=\"minimize\")\n",
        "study_lgb.optimize(objective_lgb, n_trials=120)"
      ],
      "metadata": {
        "id": "zu9oU9lARMGY"
      },
      "execution_count": null,
      "outputs": []
    },
    {
      "cell_type": "code",
      "source": [
        "optuna_params_lgb = study_lgb.best_params\n",
        "optuna_params_lgb"
      ],
      "metadata": {
        "id": "OhARjQTlRTxW"
      },
      "execution_count": null,
      "outputs": []
    },
    {
      "cell_type": "code",
      "source": [
        "model = LGBMRegressor(\n",
        "    random_state=50,\n",
        "    tree_method=\"gpu_hist\",\n",
        "    gpu_id=0,\n",
        "    predictor=\"gpu_predictor\",\n",
        "    **optuna_params_lgb\n",
        ")\n",
        "model.fit(\n",
        "    datasets['x_train'],\n",
        "    datasets['y_train'],\n",
        "    early_stopping_rounds=optuna_params_lgb['early_stopping_rounds'],\n",
        "    eval_set=[(datasets['x_val'], datasets['y_val'])],\n",
        "    verbose=1000,\n",
        ")"
      ],
      "metadata": {
        "id": "yfF0w1xpRVXp"
      },
      "execution_count": null,
      "outputs": []
    },
    {
      "cell_type": "code",
      "source": [
        "pred_optuna_lgb = pred_model(model, **datasets)\n"
      ],
      "metadata": {
        "id": "LqBlHHWwRXED"
      },
      "execution_count": null,
      "outputs": []
    },
    {
      "cell_type": "code",
      "source": [
        "cols=df_train.columns\n",
        "lgb_params = {'metric': {'mae'},\n",
        "              'num_leaves': 8,\n",
        "\n",
        "              'learning_rate': 0.03,\n",
        "              'feature_fraction': 0.9,\n",
        "              'max_depth': 3,\n",
        "              'verbose': 0,\n",
        "              \n",
        "\n",
        "              'num_boost_round': 20000,\n",
        "              'early_stopping_rounds': 300,\n",
        "              'nthread': -1}\n",
        "\n",
        "lgbtrain = lgb.Dataset(data=x_train, label=y_train, feature_name=cols)\n"
      ],
      "metadata": {
        "id": "kNz7l42URYi2"
      },
      "execution_count": null,
      "outputs": []
    },
    {
      "cell_type": "markdown",
      "source": [
        "# GERİSİ DENEMELER"
      ],
      "metadata": {
        "id": "ojtN8ckzPC9D"
      }
    },
    {
      "cell_type": "code",
      "source": [
        ""
      ],
      "metadata": {
        "id": "1KkRMIv9RLrK"
      },
      "execution_count": null,
      "outputs": []
    },
    {
      "cell_type": "code",
      "source": [
        "#cross validation denemesi\n",
        "'''\n",
        "cv_results = cross_validate(rf_final,\n",
        "                            X_test,y_test,\n",
        "                            cv=5,\n",
        "                            scoring=[\"accuracy\", \"f1\", \"roc_auc\"])\n",
        "\n",
        "cv_results['test_accuracy'].mean()\n",
        "# 0.7344326725905673\n",
        "cv_results['test_f1'].mean()\n",
        "#  0.5701221536747852\n",
        "cv_results['test_roc_auc'].mean()\n",
        "# 0.7710925925925926\n",
        "'''"
      ],
      "metadata": {
        "colab": {
          "base_uri": "https://localhost:8080/",
          "height": 53
        },
        "id": "haotLw4CN2V5",
        "outputId": "680c8fae-8215-473d-aba7-6629e910ece3"
      },
      "execution_count": 119,
      "outputs": [
        {
          "output_type": "execute_result",
          "data": {
            "text/plain": [
              "'\\ncv_results = cross_validate(rf_final,\\n                            X_test,y_test,\\n                            cv=5,\\n                            scoring=[\"accuracy\", \"f1\", \"roc_auc\"])\\n\\ncv_results[\\'test_accuracy\\'].mean()\\n# 0.7344326725905673\\ncv_results[\\'test_f1\\'].mean()\\n#  0.5701221536747852\\ncv_results[\\'test_roc_auc\\'].mean()\\n# 0.7710925925925926\\n'"
            ],
            "application/vnd.google.colaboratory.intrinsic+json": {
              "type": "string"
            }
          },
          "metadata": {},
          "execution_count": 119
        }
      ]
    },
    {
      "cell_type": "code",
      "source": [
        "rf_best_grid.best_params_\n"
      ],
      "metadata": {
        "colab": {
          "base_uri": "https://localhost:8080/"
        },
        "id": "CaUV6cxINHH_",
        "outputId": "afe4a5b4-3711-4fa4-8393-9d56df9c15d1"
      },
      "execution_count": 120,
      "outputs": [
        {
          "output_type": "execute_result",
          "data": {
            "text/plain": [
              "{'max_depth': 8,\n",
              " 'max_features': 7,\n",
              " 'min_samples_split': 2,\n",
              " 'n_estimators': 200}"
            ]
          },
          "metadata": {},
          "execution_count": 120
        }
      ]
    },
    {
      "cell_type": "code",
      "source": [
        ""
      ],
      "metadata": {
        "id": "xcRsXV-t7K8B"
      },
      "execution_count": 120,
      "outputs": []
    },
    {
      "cell_type": "code",
      "source": [
        "X_test.columns"
      ],
      "metadata": {
        "colab": {
          "base_uri": "https://localhost:8080/"
        },
        "id": "JGr3tqaBxd-6",
        "outputId": "4fc84a4f-aefd-4ab1-81d8-26d7cb60233c"
      },
      "execution_count": 121,
      "outputs": [
        {
          "output_type": "execute_result",
          "data": {
            "text/plain": [
              "Index(['ACTR3B', 'ANLN', 'BAG1', 'BCL2', 'BIRC5', 'BLVRA', 'CCNB1', 'CCNE1',\n",
              "       'CDC20', 'CDC6', 'CDH3', 'CENPF', 'CEP55', 'CXXC5', 'EGFR', 'ERBB2',\n",
              "       'ESR1', 'EXO1', 'FGFR4', 'FOXA1', 'FOXC1', 'GPR160', 'GRB7', 'KIF2C',\n",
              "       'KRT14', 'KRT17', 'KRT5', 'MAPT', 'MDM2', 'MELK', 'MIA', 'MKI67',\n",
              "       'MLPH', 'MMP11', 'MYBL2', 'MYC', 'NAT1', 'PGR', 'PHGDH', 'PTTG1',\n",
              "       'RRM2', 'SFRP1', 'SLC39A6', 'TMEM45B', 'TYMS', 'UBE2C', 'UBE2T'],\n",
              "      dtype='object')"
            ]
          },
          "metadata": {},
          "execution_count": 121
        }
      ]
    },
    {
      "cell_type": "markdown",
      "source": [
        "### Lasso Regression"
      ],
      "metadata": {
        "id": "UwQClGWT3hJG"
      }
    },
    {
      "cell_type": "code",
      "source": [
        "y_train = train['Subtype_mRNA']\n",
        "X_train = train.drop(['Subtype_mRNA'], axis=1)\n",
        "\n",
        "y_test = test['Subtype_mRNA']\n",
        "X_test = test.drop(['Subtype_mRNA'], axis=1)\n",
        "\n",
        "y_train_ohe=one_hot_encoder(y_train,['Subtype_mRNA'],drop_first=True)\n",
        "X_train_ohe=one_hot_encoder(X_train,['Subtype_mRNA'],drop_first=True)\n",
        "y_test_ohe=one_hot_encoder(y_test,['Subtype_mRNA'],drop_first=True)\n",
        "X_test_ohe=one_hot_encoder(X_test,['Subtype_mRNA'],drop_first=True)"
      ],
      "metadata": {
        "colab": {
          "base_uri": "https://localhost:8080/",
          "height": 380
        },
        "id": "pdAPyqRE7vaw",
        "outputId": "0dd174cc-9e4c-4ec2-a9cc-cd3a7e7cdeb4"
      },
      "execution_count": 122,
      "outputs": [
        {
          "output_type": "error",
          "ename": "KeyError",
          "evalue": "ignored",
          "traceback": [
            "\u001b[0;31m---------------------------------------------------------------------------\u001b[0m",
            "\u001b[0;31mKeyError\u001b[0m                                  Traceback (most recent call last)",
            "\u001b[0;32m<ipython-input-122-7f3f963abb8a>\u001b[0m in \u001b[0;36m<module>\u001b[0;34m()\u001b[0m\n\u001b[1;32m      6\u001b[0m \u001b[0;34m\u001b[0m\u001b[0m\n\u001b[1;32m      7\u001b[0m \u001b[0my_train_ohe\u001b[0m\u001b[0;34m=\u001b[0m\u001b[0mone_hot_encoder\u001b[0m\u001b[0;34m(\u001b[0m\u001b[0my_train\u001b[0m\u001b[0;34m,\u001b[0m\u001b[0;34m[\u001b[0m\u001b[0;34m'Subtype_mRNA'\u001b[0m\u001b[0;34m]\u001b[0m\u001b[0;34m,\u001b[0m\u001b[0mdrop_first\u001b[0m\u001b[0;34m=\u001b[0m\u001b[0;32mTrue\u001b[0m\u001b[0;34m)\u001b[0m\u001b[0;34m\u001b[0m\u001b[0;34m\u001b[0m\u001b[0m\n\u001b[0;32m----> 8\u001b[0;31m \u001b[0mX_train_ohe\u001b[0m\u001b[0;34m=\u001b[0m\u001b[0mone_hot_encoder\u001b[0m\u001b[0;34m(\u001b[0m\u001b[0mX_train\u001b[0m\u001b[0;34m,\u001b[0m\u001b[0;34m[\u001b[0m\u001b[0;34m'Subtype_mRNA'\u001b[0m\u001b[0;34m]\u001b[0m\u001b[0;34m,\u001b[0m\u001b[0mdrop_first\u001b[0m\u001b[0;34m=\u001b[0m\u001b[0;32mTrue\u001b[0m\u001b[0;34m)\u001b[0m\u001b[0;34m\u001b[0m\u001b[0;34m\u001b[0m\u001b[0m\n\u001b[0m\u001b[1;32m      9\u001b[0m \u001b[0my_test_ohe\u001b[0m\u001b[0;34m=\u001b[0m\u001b[0mone_hot_encoder\u001b[0m\u001b[0;34m(\u001b[0m\u001b[0my_test\u001b[0m\u001b[0;34m,\u001b[0m\u001b[0;34m[\u001b[0m\u001b[0;34m'Subtype_mRNA'\u001b[0m\u001b[0;34m]\u001b[0m\u001b[0;34m,\u001b[0m\u001b[0mdrop_first\u001b[0m\u001b[0;34m=\u001b[0m\u001b[0;32mTrue\u001b[0m\u001b[0;34m)\u001b[0m\u001b[0;34m\u001b[0m\u001b[0;34m\u001b[0m\u001b[0m\n\u001b[1;32m     10\u001b[0m \u001b[0mX_test_ohe\u001b[0m\u001b[0;34m=\u001b[0m\u001b[0mone_hot_encoder\u001b[0m\u001b[0;34m(\u001b[0m\u001b[0mX_test\u001b[0m\u001b[0;34m,\u001b[0m\u001b[0;34m[\u001b[0m\u001b[0;34m'Subtype_mRNA'\u001b[0m\u001b[0;34m]\u001b[0m\u001b[0;34m,\u001b[0m\u001b[0mdrop_first\u001b[0m\u001b[0;34m=\u001b[0m\u001b[0;32mTrue\u001b[0m\u001b[0;34m)\u001b[0m\u001b[0;34m\u001b[0m\u001b[0;34m\u001b[0m\u001b[0m\n",
            "\u001b[0;32m<ipython-input-109-849b03f5be60>\u001b[0m in \u001b[0;36mone_hot_encoder\u001b[0;34m(dataframe, categorical_cols, drop_first)\u001b[0m\n\u001b[1;32m      1\u001b[0m \u001b[0;32mdef\u001b[0m \u001b[0mone_hot_encoder\u001b[0m\u001b[0;34m(\u001b[0m\u001b[0mdataframe\u001b[0m\u001b[0;34m,\u001b[0m \u001b[0mcategorical_cols\u001b[0m\u001b[0;34m,\u001b[0m \u001b[0mdrop_first\u001b[0m\u001b[0;34m=\u001b[0m\u001b[0;32mFalse\u001b[0m\u001b[0;34m)\u001b[0m\u001b[0;34m:\u001b[0m\u001b[0;34m\u001b[0m\u001b[0;34m\u001b[0m\u001b[0m\n\u001b[0;32m----> 2\u001b[0;31m     \u001b[0mdataframe\u001b[0m \u001b[0;34m=\u001b[0m \u001b[0mpd\u001b[0m\u001b[0;34m.\u001b[0m\u001b[0mget_dummies\u001b[0m\u001b[0;34m(\u001b[0m\u001b[0mdataframe\u001b[0m\u001b[0;34m,\u001b[0m \u001b[0mcolumns\u001b[0m\u001b[0;34m=\u001b[0m\u001b[0mcategorical_cols\u001b[0m\u001b[0;34m,\u001b[0m \u001b[0mdrop_first\u001b[0m\u001b[0;34m=\u001b[0m\u001b[0mdrop_first\u001b[0m\u001b[0;34m)\u001b[0m\u001b[0;34m\u001b[0m\u001b[0;34m\u001b[0m\u001b[0m\n\u001b[0m\u001b[1;32m      3\u001b[0m     \u001b[0;32mreturn\u001b[0m \u001b[0mdataframe\u001b[0m\u001b[0;34m\u001b[0m\u001b[0;34m\u001b[0m\u001b[0m\n",
            "\u001b[0;32m/usr/local/lib/python3.7/dist-packages/pandas/core/reshape/reshape.py\u001b[0m in \u001b[0;36mget_dummies\u001b[0;34m(data, prefix, prefix_sep, dummy_na, columns, sparse, drop_first, dtype)\u001b[0m\n\u001b[1;32m    888\u001b[0m             \u001b[0;32mraise\u001b[0m \u001b[0mTypeError\u001b[0m\u001b[0;34m(\u001b[0m\u001b[0;34m\"Input must be a list-like for parameter `columns`\"\u001b[0m\u001b[0;34m)\u001b[0m\u001b[0;34m\u001b[0m\u001b[0;34m\u001b[0m\u001b[0m\n\u001b[1;32m    889\u001b[0m         \u001b[0;32melse\u001b[0m\u001b[0;34m:\u001b[0m\u001b[0;34m\u001b[0m\u001b[0;34m\u001b[0m\u001b[0m\n\u001b[0;32m--> 890\u001b[0;31m             \u001b[0mdata_to_encode\u001b[0m \u001b[0;34m=\u001b[0m \u001b[0mdata\u001b[0m\u001b[0;34m[\u001b[0m\u001b[0mcolumns\u001b[0m\u001b[0;34m]\u001b[0m\u001b[0;34m\u001b[0m\u001b[0;34m\u001b[0m\u001b[0m\n\u001b[0m\u001b[1;32m    891\u001b[0m \u001b[0;34m\u001b[0m\u001b[0m\n\u001b[1;32m    892\u001b[0m         \u001b[0;31m# validate prefixes and separator to avoid silently dropping cols\u001b[0m\u001b[0;34m\u001b[0m\u001b[0;34m\u001b[0m\u001b[0;34m\u001b[0m\u001b[0m\n",
            "\u001b[0;32m/usr/local/lib/python3.7/dist-packages/pandas/core/frame.py\u001b[0m in \u001b[0;36m__getitem__\u001b[0;34m(self, key)\u001b[0m\n\u001b[1;32m   3462\u001b[0m             \u001b[0;32mif\u001b[0m \u001b[0mis_iterator\u001b[0m\u001b[0;34m(\u001b[0m\u001b[0mkey\u001b[0m\u001b[0;34m)\u001b[0m\u001b[0;34m:\u001b[0m\u001b[0;34m\u001b[0m\u001b[0;34m\u001b[0m\u001b[0m\n\u001b[1;32m   3463\u001b[0m                 \u001b[0mkey\u001b[0m \u001b[0;34m=\u001b[0m \u001b[0mlist\u001b[0m\u001b[0;34m(\u001b[0m\u001b[0mkey\u001b[0m\u001b[0;34m)\u001b[0m\u001b[0;34m\u001b[0m\u001b[0;34m\u001b[0m\u001b[0m\n\u001b[0;32m-> 3464\u001b[0;31m             \u001b[0mindexer\u001b[0m \u001b[0;34m=\u001b[0m \u001b[0mself\u001b[0m\u001b[0;34m.\u001b[0m\u001b[0mloc\u001b[0m\u001b[0;34m.\u001b[0m\u001b[0m_get_listlike_indexer\u001b[0m\u001b[0;34m(\u001b[0m\u001b[0mkey\u001b[0m\u001b[0;34m,\u001b[0m \u001b[0maxis\u001b[0m\u001b[0;34m=\u001b[0m\u001b[0;36m1\u001b[0m\u001b[0;34m)\u001b[0m\u001b[0;34m[\u001b[0m\u001b[0;36m1\u001b[0m\u001b[0;34m]\u001b[0m\u001b[0;34m\u001b[0m\u001b[0;34m\u001b[0m\u001b[0m\n\u001b[0m\u001b[1;32m   3465\u001b[0m \u001b[0;34m\u001b[0m\u001b[0m\n\u001b[1;32m   3466\u001b[0m         \u001b[0;31m# take() does not accept boolean indexers\u001b[0m\u001b[0;34m\u001b[0m\u001b[0;34m\u001b[0m\u001b[0;34m\u001b[0m\u001b[0m\n",
            "\u001b[0;32m/usr/local/lib/python3.7/dist-packages/pandas/core/indexing.py\u001b[0m in \u001b[0;36m_get_listlike_indexer\u001b[0;34m(self, key, axis)\u001b[0m\n\u001b[1;32m   1312\u001b[0m             \u001b[0mkeyarr\u001b[0m\u001b[0;34m,\u001b[0m \u001b[0mindexer\u001b[0m\u001b[0;34m,\u001b[0m \u001b[0mnew_indexer\u001b[0m \u001b[0;34m=\u001b[0m \u001b[0max\u001b[0m\u001b[0;34m.\u001b[0m\u001b[0m_reindex_non_unique\u001b[0m\u001b[0;34m(\u001b[0m\u001b[0mkeyarr\u001b[0m\u001b[0;34m)\u001b[0m\u001b[0;34m\u001b[0m\u001b[0;34m\u001b[0m\u001b[0m\n\u001b[1;32m   1313\u001b[0m \u001b[0;34m\u001b[0m\u001b[0m\n\u001b[0;32m-> 1314\u001b[0;31m         \u001b[0mself\u001b[0m\u001b[0;34m.\u001b[0m\u001b[0m_validate_read_indexer\u001b[0m\u001b[0;34m(\u001b[0m\u001b[0mkeyarr\u001b[0m\u001b[0;34m,\u001b[0m \u001b[0mindexer\u001b[0m\u001b[0;34m,\u001b[0m \u001b[0maxis\u001b[0m\u001b[0;34m)\u001b[0m\u001b[0;34m\u001b[0m\u001b[0;34m\u001b[0m\u001b[0m\n\u001b[0m\u001b[1;32m   1315\u001b[0m \u001b[0;34m\u001b[0m\u001b[0m\n\u001b[1;32m   1316\u001b[0m         if needs_i8_conversion(ax.dtype) or isinstance(\n",
            "\u001b[0;32m/usr/local/lib/python3.7/dist-packages/pandas/core/indexing.py\u001b[0m in \u001b[0;36m_validate_read_indexer\u001b[0;34m(self, key, indexer, axis)\u001b[0m\n\u001b[1;32m   1372\u001b[0m                 \u001b[0;32mif\u001b[0m \u001b[0muse_interval_msg\u001b[0m\u001b[0;34m:\u001b[0m\u001b[0;34m\u001b[0m\u001b[0;34m\u001b[0m\u001b[0m\n\u001b[1;32m   1373\u001b[0m                     \u001b[0mkey\u001b[0m \u001b[0;34m=\u001b[0m \u001b[0mlist\u001b[0m\u001b[0;34m(\u001b[0m\u001b[0mkey\u001b[0m\u001b[0;34m)\u001b[0m\u001b[0;34m\u001b[0m\u001b[0;34m\u001b[0m\u001b[0m\n\u001b[0;32m-> 1374\u001b[0;31m                 \u001b[0;32mraise\u001b[0m \u001b[0mKeyError\u001b[0m\u001b[0;34m(\u001b[0m\u001b[0;34mf\"None of [{key}] are in the [{axis_name}]\"\u001b[0m\u001b[0;34m)\u001b[0m\u001b[0;34m\u001b[0m\u001b[0;34m\u001b[0m\u001b[0m\n\u001b[0m\u001b[1;32m   1375\u001b[0m \u001b[0;34m\u001b[0m\u001b[0m\n\u001b[1;32m   1376\u001b[0m             \u001b[0mnot_found\u001b[0m \u001b[0;34m=\u001b[0m \u001b[0mlist\u001b[0m\u001b[0;34m(\u001b[0m\u001b[0mensure_index\u001b[0m\u001b[0;34m(\u001b[0m\u001b[0mkey\u001b[0m\u001b[0;34m)\u001b[0m\u001b[0;34m[\u001b[0m\u001b[0mmissing_mask\u001b[0m\u001b[0;34m.\u001b[0m\u001b[0mnonzero\u001b[0m\u001b[0;34m(\u001b[0m\u001b[0;34m)\u001b[0m\u001b[0;34m[\u001b[0m\u001b[0;36m0\u001b[0m\u001b[0;34m]\u001b[0m\u001b[0;34m]\u001b[0m\u001b[0;34m.\u001b[0m\u001b[0munique\u001b[0m\u001b[0;34m(\u001b[0m\u001b[0;34m)\u001b[0m\u001b[0;34m)\u001b[0m\u001b[0;34m\u001b[0m\u001b[0;34m\u001b[0m\u001b[0m\n",
            "\u001b[0;31mKeyError\u001b[0m: \"None of [Index(['Subtype_mRNA'], dtype='object')] are in the [columns]\""
          ]
        }
      ]
    },
    {
      "cell_type": "code",
      "source": [
        "y_train=pd.get_dummies(y_train,drop_first=True)\n",
        "y_test=pd.get_dummies(y_test,drop_first=True)"
      ],
      "metadata": {
        "id": "IChlH8t6K5Gf"
      },
      "execution_count": null,
      "outputs": []
    },
    {
      "cell_type": "code",
      "source": [
        "# try alpha=0.01 and examine coefficients\n",
        "from sklearn.linear_model import Lasso\n",
        "lassoreg = Lasso(alpha=0.01, normalize=True)\n",
        "lassoreg.fit(X_train, y_train)\n",
        "\n",
        "# calculate (for alpha=0.01)\n",
        "y_pred = lassoreg.predict(X_test)\n",
        "\n",
        "scores(y_test, y_pred)\n"
      ],
      "metadata": {
        "id": "yptHC7653giJ"
      },
      "execution_count": null,
      "outputs": []
    },
    {
      "cell_type": "markdown",
      "source": [
        "# Neural Network"
      ],
      "metadata": {
        "id": "p4Rc5_XYyj1Z"
      }
    },
    {
      "cell_type": "code",
      "source": [
        "from tensorflow.keras.layers import Dense\n",
        "from tensorflow.keras.models import Sequential\n",
        "from sklearn.metrics import accuracy_score"
      ],
      "metadata": {
        "id": "Rw0tji4IyjpK"
      },
      "execution_count": null,
      "outputs": []
    },
    {
      "cell_type": "code",
      "source": [
        "model = Sequential()\n",
        "\n",
        "model.add(Dense(len(cols),input_shape=(len(cols),), \n",
        "kernel_initializer='normal', activation='relu'))\n",
        "\n",
        "\n",
        "model.add(Dense(32, activation='relu'))\n",
        "model.add(Dense(32, activation='relu'))\n",
        "\n",
        "model.add(Dense(1, activation='softmax'))\n",
        "model.compile(optimizer = 'adam',loss='binary_crossentropy', metrics \n",
        "=['accuracy'])\n",
        "model.fit(X_train, y_train,epochs =20)"
      ],
      "metadata": {
        "id": "k6sPNnGU0rwk"
      },
      "execution_count": null,
      "outputs": []
    },
    {
      "cell_type": "code",
      "source": [
        "y_pred = model.predict(X_test)\n",
        "#y_pred = np.where(y_pred > 0.5, 1, 0)\n",
        "\n",
        "print(\"Accuracy: \", accuracy_score(y_pred, y_test))"
      ],
      "metadata": {
        "id": "bRiPLAyDy1HC"
      },
      "execution_count": null,
      "outputs": []
    },
    {
      "cell_type": "code",
      "source": [
        "from sklearn.ensemble import RandomForestClassifier\n",
        "\n",
        "rf = RandomForestClassifier(n_estimators=100, oob_score=True, random_state=17)\n",
        "rf.fit(X_train_ohe, y_train)"
      ],
      "metadata": {
        "id": "9w3lH3FeuC4F"
      },
      "execution_count": null,
      "outputs": []
    },
    {
      "cell_type": "code",
      "source": [
        "from sklearn.metrics import accuracy_score\n",
        "\n",
        "predicted = rf.predict(X_test_ohe)\n",
        "accuracy = accuracy_score(y_test, predicted)\n",
        "\n",
        "print(f'Out-of-bag score estimate: {rf.oob_score_:.3}')\n",
        "print(f'Mean accuracy score: {accuracy:.3}')"
      ],
      "metadata": {
        "id": "R8ZjdiLhuC1t"
      },
      "execution_count": null,
      "outputs": []
    },
    {
      "cell_type": "code",
      "source": [
        ""
      ],
      "metadata": {
        "id": "_7gdftRXuCzO"
      },
      "execution_count": null,
      "outputs": []
    },
    {
      "cell_type": "code",
      "source": [
        ""
      ],
      "metadata": {
        "id": "jLfkHKgauCws"
      },
      "execution_count": null,
      "outputs": []
    },
    {
      "cell_type": "code",
      "source": [
        ""
      ],
      "metadata": {
        "id": "j8Wq4Ob9uCn3"
      },
      "execution_count": null,
      "outputs": []
    },
    {
      "cell_type": "code",
      "source": [
        "################################################\n",
        "# Feature Importance\n",
        "################################################\n",
        "\n",
        "def plot_importance(model, features, num=len(X), save=False):\n",
        "    feature_imp = pd.DataFrame({'Value': model.feature_importances_, 'Feature': features.columns})\n",
        "    plt.figure(figsize=(10, 10))\n",
        "    sns.set(font_scale=1)\n",
        "    sns.barplot(x=\"Value\", y=\"Feature\", data=feature_imp.sort_values(by=\"Value\",\n",
        "                                                                     ascending=False)[0:num])\n",
        "    plt.title('Features')\n",
        "    plt.tight_layout()\n",
        "    plt.show()\n",
        "    if save:\n",
        "        plt.savefig('importances.png')\n",
        "\n",
        "\n",
        "plot_importance(rf_final, X)\n",
        "plot_importance(gbm_final, X)\n",
        "plot_importance(xgboost_final, X)\n",
        "plot_importance(lgbm_final, X)\n",
        "plot_importance(catboost_final, X)"
      ],
      "metadata": {
        "id": "rH4OTWVnnqNo"
      },
      "execution_count": null,
      "outputs": []
    },
    {
      "cell_type": "code",
      "source": [
        ""
      ],
      "metadata": {
        "id": "-FttRxt5t1jx"
      },
      "execution_count": null,
      "outputs": []
    },
    {
      "cell_type": "code",
      "source": [
        ""
      ],
      "metadata": {
        "id": "zB8bxifQt1ep"
      },
      "execution_count": null,
      "outputs": []
    },
    {
      "cell_type": "code",
      "source": [
        ""
      ],
      "metadata": {
        "id": "pLQosSY_t1cI"
      },
      "execution_count": null,
      "outputs": []
    },
    {
      "cell_type": "code",
      "source": [
        ""
      ],
      "metadata": {
        "id": "zEbudO1-t1Zn"
      },
      "execution_count": null,
      "outputs": []
    },
    {
      "cell_type": "code",
      "source": [
        ""
      ],
      "metadata": {
        "id": "ROSckxc2t1VL"
      },
      "execution_count": null,
      "outputs": []
    },
    {
      "cell_type": "code",
      "source": [
        "################################################\n",
        "# Random Forests, GBM, XGBoost, LightGBM, CatBoost\n",
        "################################################\n",
        "\n",
        "import warnings\n",
        "import numpy as np\n",
        "import pandas as pd\n",
        "import seaborn as sns\n",
        "from matplotlib import pyplot as plt\n",
        "from sklearn.ensemble import RandomForestClassifier, GradientBoostingClassifier, VotingClassifier\n",
        "\n",
        "from xgboost import XGBClassifier\n",
        "from lightgbm import LGBMClassifier\n",
        "from catboost import CatBoostClassifier\n",
        "\n",
        "# !pip install catboost\n",
        "# !pip install lightgbm\n",
        "\n",
        "pd.set_option('display.max_columns', None)\n",
        "warnings.simplefilter(action='ignore', category=Warning)\n",
        "\n",
        "df = pd.read_csv(\"datasets/diabetes.csv\")\n",
        "y = df[\"Outcome\"]\n",
        "X = df.drop([\"Outcome\"], axis=1)\n",
        "\n",
        "\n",
        "################################################\n",
        "# Random Forests\n",
        "################################################\n",
        "\n",
        "\n",
        "rf_model = RandomForestClassifier(random_state=17)\n",
        "\n",
        "rf_params = {\"max_depth\": [5, 8, None],\n",
        "             \"max_features\": [3, 5, 7, \"auto\"],\n",
        "             \"min_samples_split\": [2, 5, 8, 15, 20],\n",
        "             \"n_estimators\": [100, 200, 500]}\n",
        "\n",
        "rf_best_grid = GridSearchCV(rf_model,\n",
        "                            rf_params,\n",
        "                            cv=5,\n",
        "                            n_jobs=-1,\n",
        "                            verbose=True).fit(X, y)\n",
        "\n",
        "rf_final = rf_model.set_params(**rf_best_grid.best_params_,\n",
        "                               random_state=17).fit(X, y)\n",
        "\n",
        "cv_results = cross_validate(rf_final,\n",
        "                            X, y,\n",
        "                            cv=5,\n",
        "                            scoring=[\"accuracy\", \"f1\", \"roc_auc\"])\n",
        "\n",
        "\n",
        "cv_results['test_accuracy'].mean()\n",
        "# 0.7344326725905673\n",
        "cv_results['test_f1'].mean()\n",
        "#  0.5701221536747852\n",
        "cv_results['test_roc_auc'].mean()\n",
        "# 0.7710925925925926\n",
        "\n",
        "\n",
        "\n",
        "################################################\n",
        "# GBM Model\n",
        "################################################\n",
        "\n",
        "gbm_model = GradientBoostingClassifier(random_state=17)\n",
        "\n",
        "gbm_params = {\"learning_rate\": [0.01, 0.1],\n",
        "              \"max_depth\": [3, 8],\n",
        "              \"n_estimators\": [500, 1000],\n",
        "              \"subsample\": [1, 0.5, 0.7]}\n",
        "\n",
        "gbm_best_grid = GridSearchCV(gbm_model,\n",
        "                             gbm_params,\n",
        "                             cv=5,\n",
        "                             n_jobs=-1,\n",
        "                             verbose=True).fit(X, y)\n",
        "\n",
        "gbm_final = gbm_model.set_params(**gbm_best_grid.best_params_,\n",
        "                                 random_state=17, ).fit(X, y)\n",
        "\n",
        "cv_results = cross_validate(gbm_final,\n",
        "                            X, y,\n",
        "                            cv=10,\n",
        "                            scoring=[\"accuracy\", \"f1\", \"roc_auc\"])\n",
        "\n",
        "\n",
        "cv_results['test_accuracy'].mean()\n",
        "# 0.7344326725905673\n",
        "cv_results['test_f1'].mean()\n",
        "#  0.5701221536747852\n",
        "cv_results['test_roc_auc'].mean()\n",
        "# 0.7710925925925926\n",
        "\n",
        "\n",
        "\n",
        "\n",
        "\n",
        "\n",
        "\n",
        "\n",
        "\n",
        "################################################\n",
        "# CatBoost\n",
        "################################################\n",
        "\n",
        "catboost_model = CatBoostClassifier(random_state=17, verbose=False)\n",
        "\n",
        "catboost_params = {\"iterations\": [200, 500],\n",
        "                   \"learning_rate\": [0.01, 0.1],\n",
        "                   \"depth\": [3, 6]}\n",
        "\n",
        "catboost_best_grid = GridSearchCV(catboost_model,\n",
        "                                  catboost_params,\n",
        "                                  cv=5,\n",
        "                                  n_jobs=-1,\n",
        "                                  verbose=True).fit(X, y)\n",
        "\n",
        "catboost_final = catboost_model.set_params(**catboost_best_grid.best_params_,\n",
        "                                           random_state=17).fit(X, y)\n",
        "\n",
        "cv_results = cross_validate(catboost_final,\n",
        "                            X, y,\n",
        "                            cv=10,\n",
        "                            scoring=[\"accuracy\", \"f1\", \"roc_auc\"])\n",
        "\n",
        "\n",
        "cv_results['test_accuracy'].mean()\n",
        "cv_results['test_f1'].mean()\n",
        "cv_results['test_roc_auc'].mean()\n",
        "\n",
        "\n",
        "\n",
        "\n",
        "################################################\n",
        "# Feature Importance\n",
        "################################################\n",
        "\n",
        "def plot_importance(model, features, num=len(X), save=False):\n",
        "    feature_imp = pd.DataFrame({'Value': model.feature_importances_, 'Feature': features.columns})\n",
        "    plt.figure(figsize=(10, 10))\n",
        "    sns.set(font_scale=1)\n",
        "    sns.barplot(x=\"Value\", y=\"Feature\", data=feature_imp.sort_values(by=\"Value\",\n",
        "                                                                     ascending=False)[0:num])\n",
        "    plt.title('Features')\n",
        "    plt.tight_layout()\n",
        "    plt.show()\n",
        "    if save:\n",
        "        plt.savefig('importances.png')\n",
        "\n",
        "\n",
        "plot_importance(rf_final, X)\n",
        "plot_importance(gbm_final, X)\n",
        "plot_importance(xgboost_final, X)\n",
        "plot_importance(lgbm_final, X)\n",
        "plot_importance(catboost_final, X)\n",
        "\n",
        "\n",
        "\n",
        "\n",
        "\n",
        "\n",
        "################################\n",
        "# Hyperparameter Optimization with RandomSearchCV (BONUS)\n",
        "################################\n",
        "\n",
        "\n",
        "rf_model = RandomForestClassifier(random_state=17)\n",
        "\n",
        "rf_random_params = {\"max_depth\": np.random.randint(5, 50, 10),\n",
        "                    \"max_features\": [3, 5, 7, \"auto\", \"sqrt\"],\n",
        "                    \"min_samples_split\": np.random.randint(2, 50, 20),\n",
        "                    \"n_estimators\": [int(x) for x in np.linspace(start=200, stop=1500, num=10)]}\n",
        "\n",
        "\n",
        "rf_random = RandomizedSearchCV(estimator=rf_model,\n",
        "                               param_distributions=rf_random_params,\n",
        "                               n_iter=100,  # denenecek parametre sayısı\n",
        "                               cv=3,\n",
        "                               verbose=True,\n",
        "                               random_state=42,\n",
        "                               n_jobs=-1)\n",
        "\n",
        "rf_random.fit(X, y)\n",
        "\n",
        "# En iyi hiperparametre değerleri:\n",
        "rf_random.best_params_\n",
        "\n",
        "# En iyi skor\n",
        "rf_random.best_score_\n",
        "\n",
        "\n",
        "rf_random_final = rf_model.set_params(**rf_random.best_params_,\n",
        "                                      random_state=17).fit(X, y)\n",
        "\n",
        "\n",
        "cv_results = cross_validate(rf_random_final,\n",
        "                            X, y,\n",
        "                            cv=5,\n",
        "                            scoring=[\"accuracy\", \"f1\", \"roc_auc\"])\n",
        "\n",
        "\n",
        "cv_results['test_accuracy'].mean()\n",
        "cv_results['test_f1'].mean()\n",
        "cv_results['test_roc_auc'].mean()\n",
        "\n",
        "\n",
        "\n",
        "################################\n",
        "# Analyzing Model Complexity with Learning Curves (BONUS)\n",
        "################################\n",
        "\n",
        "def val_curve_params(model, X, y, param_name, param_range, scoring=\"roc_auc\", cv=10):\n",
        "    train_score, test_score = validation_curve(\n",
        "        model, X=X, y=y, param_name=param_name, param_range=param_range, scoring=scoring, cv=cv)\n",
        "\n",
        "    mean_train_score = np.mean(train_score, axis=1)\n",
        "    mean_test_score = np.mean(test_score, axis=1)\n",
        "\n",
        "    plt.plot(param_range, mean_train_score,\n",
        "             label=\"Training Score\", color='b')\n",
        "\n",
        "    plt.plot(param_range, mean_test_score,\n",
        "             label=\"Validation Score\", color='g')\n",
        "\n",
        "    plt.title(f\"Validation Curve for {type(model).__name__}\")\n",
        "    plt.xlabel(f\"Number of {param_name}\")\n",
        "    plt.ylabel(f\"{scoring}\")\n",
        "    plt.tight_layout()\n",
        "    plt.legend(loc='best')\n",
        "    plt.show()\n",
        "\n",
        "\n",
        "rf_val_params = [[\"max_depth\", [5, 8, 15, 20, 30, None]],\n",
        "                 [\"max_features\", [3, 5, 7, \"auto\"]],\n",
        "                 [\"min_samples_split\", [2, 5, 8, 15, 20]],\n",
        "                 [\"n_estimators\", [10, 50, 100, 200, 500]]]\n",
        "\n",
        "\n",
        "rf_model = RandomForestClassifier(random_state=17)\n",
        "\n",
        "for i in range(len(rf_val_params)):\n",
        "    val_curve_params(rf_model, X, y, rf_val_params[i][0], rf_val_params[i][1])\n",
        "\n",
        "rf_val_params[0][1]\n",
        "################################################\n",
        "# Random Forests, GBM, XGBoost, LightGBM, CatBoost\n",
        "################################################\n",
        "\n",
        "import warnings\n",
        "import numpy as np\n",
        "import pandas as pd\n",
        "import seaborn as sns\n",
        "from matplotlib import pyplot as plt\n",
        "from sklearn.ensemble import RandomForestClassifier, GradientBoostingClassifier, VotingClassifier\n",
        "from sklearn.model_selection import GridSearchCV, cross_validate, RandomizedSearchCV, validation_curve\n",
        "\n",
        "from xgboost import XGBClassifier\n",
        "from lightgbm import LGBMClassifier\n",
        "from catboost import CatBoostClassifier\n",
        "\n",
        "# !pip install catboost\n",
        "# !pip install lightgbm\n",
        "\n",
        "pd.set_option('display.max_columns', None)\n",
        "warnings.simplefilter(action='ignore', category=Warning)\n",
        "\n",
        "df = pd.read_csv(\"datasets/diabetes.csv\")\n",
        "y = df[\"Outcome\"]\n",
        "X = df.drop([\"Outcome\"], axis=1)\n",
        "\n",
        "\n",
        "################################################\n",
        "# Random Forests\n",
        "################################################\n",
        "\n",
        "\n",
        "rf_model = RandomForestClassifier(random_state=17)\n",
        "\n",
        "rf_params = {\"max_depth\": [5, 8, None],\n",
        "             \"max_features\": [3, 5, 7, \"auto\"],\n",
        "             \"min_samples_split\": [2, 5, 8, 15, 20],\n",
        "             \"n_estimators\": [100, 200, 500]}\n",
        "\n",
        "rf_best_grid = GridSearchCV(rf_model,\n",
        "                            rf_params,\n",
        "                            cv=5,\n",
        "                            n_jobs=-1,\n",
        "                            verbose=True).fit(X, y)\n",
        "\n",
        "rf_final = rf_model.set_params(**rf_best_grid.best_params_,\n",
        "                               random_state=17).fit(X, y)\n",
        "\n",
        "cv_results = cross_validate(rf_final,\n",
        "                            X, y,\n",
        "                            cv=5,\n",
        "                            scoring=[\"accuracy\", \"f1\", \"roc_auc\"])\n",
        "\n",
        "\n",
        "cv_results['test_accuracy'].mean()\n",
        "# 0.7344326725905673\n",
        "cv_results['test_f1'].mean()\n",
        "#  0.5701221536747852\n",
        "cv_results['test_roc_auc'].mean()\n",
        "# 0.7710925925925926\n",
        "\n",
        "\n",
        "\n",
        "################################################\n",
        "# GBM Model\n",
        "################################################\n",
        "\n",
        "gbm_model = GradientBoostingClassifier(random_state=17)\n",
        "\n",
        "gbm_params = {\"learning_rate\": [0.01, 0.1],\n",
        "              \"max_depth\": [3, 8],\n",
        "              \"n_estimators\": [500, 1000],\n",
        "              \"subsample\": [1, 0.5, 0.7]}\n",
        "\n",
        "gbm_best_grid = GridSearchCV(gbm_model,\n",
        "                             gbm_params,\n",
        "                             cv=5,\n",
        "                             n_jobs=-1,\n",
        "                             verbose=True).fit(X, y)\n",
        "\n",
        "gbm_final = gbm_model.set_params(**gbm_best_grid.best_params_,\n",
        "                                 random_state=17, ).fit(X, y)\n",
        "\n",
        "cv_results = cross_validate(gbm_final,\n",
        "                            X, y,\n",
        "                            cv=10,\n",
        "                            scoring=[\"accuracy\", \"f1\", \"roc_auc\"])\n",
        "\n",
        "\n",
        "cv_results['test_accuracy'].mean()\n",
        "# 0.7344326725905673\n",
        "cv_results['test_f1'].mean()\n",
        "#  0.5701221536747852\n",
        "cv_results['test_roc_auc'].mean()\n",
        "# 0.7710925925925926\n",
        "\n",
        "\n",
        "################################################\n",
        "# XGBoost\n",
        "################################################\n",
        "\n",
        "xgboost_model = XGBClassifier(random_state=17)\n",
        "\n",
        "xgboost_params = {\"learning_rate\": [0.1, 0.01, 0.001],\n",
        "                  \"max_depth\": [5, 8, 12, 15, 20],\n",
        "                  \"n_estimators\": [100, 500, 1000],\n",
        "                  \"colsample_bytree\": [0.5, 0.7, 1]}\n",
        "\n",
        "xgboost_best_grid = GridSearchCV(xgboost_model,\n",
        "                                 xgboost_params,\n",
        "                                 cv=5,\n",
        "                                 n_jobs=-1, verbose=True).fit(X, y)\n",
        "\n",
        "xgboost_best_grid.best_score_\n",
        "\n",
        "xgboost_final = xgboost_model.set_params(**xgboost_best_grid.best_params_,\n",
        "                                         random_state=17).fit(X, y)\n",
        "\n",
        "\n",
        "cv_results = cross_validate(xgboost_final,\n",
        "                            X, y,\n",
        "                            cv=10,\n",
        "                            scoring=[\"accuracy\", \"f1\", \"roc_auc\"])\n",
        "\n",
        "\n",
        "\n",
        "cv_results['test_accuracy'].mean()\n",
        "cv_results['test_f1'].mean()\n",
        "cv_results['test_roc_auc'].mean()\n",
        "\n",
        "\n",
        "\n",
        "\n",
        "################################################\n",
        "# LightGBM\n",
        "################################################\n",
        "\n",
        "lgbm_model = LGBMClassifier(random_state=17)\n",
        "\n",
        "lgbm_params = {\"learning_rate\": [0.01, 0.02, 0.03, 0.1, 0.001],\n",
        "               \"n_estimators\": [100, 250, 300, 350, 500, 1000],\n",
        "               \"colsample_bytree\": [0.5, 0.8, 0.7, 0.6, 1]}\n",
        "\n",
        "lgbm_best_grid = GridSearchCV(lgbm_model, lgbm_params,\n",
        "                              cv=5, n_jobs=-1, verbose=True).fit(X, y)\n",
        "\n",
        "lgbm_final = lgbm_model.set_params(**lgbm_best_grid.best_params_,\n",
        "                                   random_state=17).fit(X, y)\n",
        "\n",
        "cv_results = cross_validate(lgbm_final, X, y, cv=10,\n",
        "                            scoring=[\"accuracy\", \"f1\", \"roc_auc\"])\n",
        "\n",
        "\n",
        "cv_results['test_accuracy'].mean()\n",
        "cv_results['test_f1'].mean()\n",
        "cv_results['test_roc_auc'].mean()\n",
        "\n",
        "################################################\n",
        "# CatBoost\n",
        "################################################\n",
        "\n",
        "catboost_model = CatBoostClassifier(random_state=17, verbose=False)\n",
        "\n",
        "catboost_params = {\"iterations\": [200, 500],\n",
        "                   \"learning_rate\": [0.01, 0.1],\n",
        "                   \"depth\": [3, 6]}\n",
        "\n",
        "catboost_best_grid = GridSearchCV(catboost_model,\n",
        "                                  catboost_params,\n",
        "                                  cv=5,\n",
        "                                  n_jobs=-1,\n",
        "                                  verbose=True).fit(X, y)\n",
        "\n",
        "catboost_final = catboost_model.set_params(**catboost_best_grid.best_params_,\n",
        "                                           random_state=17).fit(X, y)\n",
        "\n",
        "cv_results = cross_validate(catboost_final,\n",
        "                            X, y,\n",
        "                            cv=10,\n",
        "                            scoring=[\"accuracy\", \"f1\", \"roc_auc\"])\n",
        "\n",
        "\n",
        "cv_results['test_accuracy'].mean()\n",
        "cv_results['test_f1'].mean()\n",
        "cv_results['test_roc_auc'].mean()\n",
        "\n",
        "\n",
        "\n",
        "\n",
        "################################################\n",
        "# Feature Importance\n",
        "################################################\n",
        "\n",
        "def plot_importance(model, features, num=len(X), save=False):\n",
        "    feature_imp = pd.DataFrame({'Value': model.feature_importances_, 'Feature': features.columns})\n",
        "    plt.figure(figsize=(10, 10))\n",
        "    sns.set(font_scale=1)\n",
        "    sns.barplot(x=\"Value\", y=\"Feature\", data=feature_imp.sort_values(by=\"Value\",\n",
        "                                                                     ascending=False)[0:num])\n",
        "    plt.title('Features')\n",
        "    plt.tight_layout()\n",
        "    plt.show()\n",
        "    if save:\n",
        "        plt.savefig('importances.png')\n",
        "\n",
        "\n",
        "plot_importance(rf_final, X)\n",
        "plot_importance(gbm_final, X)\n",
        "plot_importance(xgboost_final, X)\n",
        "plot_importance(lgbm_final, X)\n",
        "plot_importance(catboost_final, X)\n",
        "\n",
        "\n",
        "\n",
        "\n",
        "\n",
        "\n",
        "################################\n",
        "# Hyperparameter Optimization with RandomSearchCV (BONUS)\n",
        "################################\n",
        "\n",
        "\n",
        "rf_model = RandomForestClassifier(random_state=17)\n",
        "\n",
        "rf_random_params = {\"max_depth\": np.random.randint(5, 50, 10),\n",
        "                    \"max_features\": [3, 5, 7, \"auto\", \"sqrt\"],\n",
        "                    \"min_samples_split\": np.random.randint(2, 50, 20),\n",
        "                    \"n_estimators\": [int(x) for x in np.linspace(start=200, stop=1500, num=10)]}\n",
        "\n",
        "\n",
        "rf_random = RandomizedSearchCV(estimator=rf_model,\n",
        "                               param_distributions=rf_random_params,\n",
        "                               n_iter=100,  # denenecek parametre sayısı\n",
        "                               cv=3,\n",
        "                               verbose=True,\n",
        "                               random_state=42,\n",
        "                               n_jobs=-1)\n",
        "\n",
        "rf_random.fit(X, y)\n",
        "\n",
        "# En iyi hiperparametre değerleri:\n",
        "rf_random.best_params_\n",
        "\n",
        "# En iyi skor\n",
        "rf_random.best_score_\n",
        "\n",
        "\n",
        "rf_random_final = rf_model.set_params(**rf_random.best_params_,\n",
        "                                      random_state=17).fit(X, y)\n",
        "\n",
        "\n",
        "cv_results = cross_validate(rf_random_final,\n",
        "                            X, y,\n",
        "                            cv=5,\n",
        "                            scoring=[\"accuracy\", \"f1\", \"roc_auc\"])\n",
        "\n",
        "\n",
        "cv_results['test_accuracy'].mean()\n",
        "cv_results['test_f1'].mean()\n",
        "cv_results['test_roc_auc'].mean()\n",
        "\n",
        "\n",
        "\n",
        "################################\n",
        "# Analyzing Model Complexity with Learning Curves (BONUS)\n",
        "################################\n",
        "\n",
        "def val_curve_params(model, X, y, param_name, param_range, scoring=\"roc_auc\", cv=10):\n",
        "    train_score, test_score = validation_curve(\n",
        "        model, X=X, y=y, param_name=param_name, param_range=param_range, scoring=scoring, cv=cv)\n",
        "\n",
        "    mean_train_score = np.mean(train_score, axis=1)\n",
        "    mean_test_score = np.mean(test_score, axis=1)\n",
        "\n",
        "    plt.plot(param_range, mean_train_score,\n",
        "             label=\"Training Score\", color='b')\n",
        "\n",
        "    plt.plot(param_range, mean_test_score,\n",
        "             label=\"Validation Score\", color='g')\n",
        "\n",
        "    plt.title(f\"Validation Curve for {type(model).__name__}\")\n",
        "    plt.xlabel(f\"Number of {param_name}\")\n",
        "    plt.ylabel(f\"{scoring}\")\n",
        "    plt.tight_layout()\n",
        "    plt.legend(loc='best')\n",
        "    plt.show()\n",
        "\n",
        "\n",
        "rf_val_params = [[\"max_depth\", [5, 8, 15, 20, 30, None]],\n",
        "                 [\"max_features\", [3, 5, 7, \"auto\"]],\n",
        "                 [\"min_samples_split\", [2, 5, 8, 15, 20]],\n",
        "                 [\"n_estimators\", [10, 50, 100, 200, 500]]]\n",
        "\n",
        "\n",
        "rf_model = RandomForestClassifier(random_state=17)\n",
        "\n",
        "for i in range(len(rf_val_params)):\n",
        "    val_curve_params(rf_model, X, y, rf_val_params[i][0], rf_val_params[i][1])\n",
        "\n",
        "rf_val_params[0][1]\n"
      ],
      "metadata": {
        "id": "zkU97ASGm94K"
      },
      "execution_count": null,
      "outputs": []
    }
  ]
}